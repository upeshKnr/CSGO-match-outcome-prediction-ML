{
  "cells": [
    {
      "cell_type": "markdown",
      "metadata": {
        "id": "8ZPNOac6FVXH"
      },
      "source": [
        "**CSGo Project**"
      ]
    },
    {
      "cell_type": "markdown",
      "metadata": {
        "id": "uAr_dnihFmsy"
      },
      "source": [
        "**Counter-Strike (CS)** is a popular series of tactical first-person shooter (FPS) video games that have been enjoyed by gamers worldwide for many years. The series originated as a modification for the popular game Half-Life and quickly gained its own dedicated following. Here's an overview of Counter-Strike:\n",
        "\n",
        "**Gameplay Overview:**\n",
        "\n",
        "Counter-Strike is primarily a multiplayer game where two teams, the Counter-Terrorists (CTs) and the Terrorists (Ts), compete against each other.\n",
        "\n",
        "The objective of each round varies based on the game mode, but the primary goals include:\n",
        "\n",
        "**Counter-Terrorists:** Prevent the Terrorists from achieving their objectives, such as defusing a bomb or rescuing hostages.\n",
        "\n",
        "**Terrorists:** Achieve their objectives, which may include planting a bomb at a designated site or holding hostages.\n",
        "Rounds are relatively short, typically lasting a few minutes, and players have only one life per round. When a player is eliminated, they must wait until the next round to respawn.\n",
        "\n",
        "**Key Features:**\n",
        "\n",
        "**Weapons:** Players can purchase and use a wide variety of firearms, grenades, and equipment. The choice of weaponry is an essential strategic element in the game.\n",
        "\n",
        "**Economy:** Players earn in-game money based on their performance in the previous rounds. Money is used to buy weapons and equipment for the next round.\n",
        "\n",
        "**Maps:** Counter-Strike features a range of maps, each with its own layout and objectives. Popular maps include Dust II, Mirage, Inferno, and more.\n",
        "\n",
        "**Teamwork:** Successful gameplay in Counter-Strike heavily relies on teamwork, communication, and strategy. Players often coordinate their actions with their teammates to achieve objectives.\n",
        "\n",
        "**Competitive Play:** Counter-Strike is well-known for its competitive scene, with professional esports tournaments held worldwide.\n",
        "\n",
        "**Popular Game Modes:**\n",
        "\n",
        "**Bomb Defusal (de_):** In this mode, Terrorists attempt to plant a bomb at one of the designated bomb sites, while Counter-Terrorists aim to prevent the bomb from being planted or defuse it if it's planted.\n",
        "\n",
        "**Hostage Rescue (cs_):** In hostage rescue mode, Counter-Terrorists must rescue hostages held by the Terrorists, while the Terrorists aim to prevent the rescues.\n",
        "\n",
        "**Arms Race:** A fast-paced mode where players cycle through a series of weapons, aiming to be the first to get a kill with each weapon.\n",
        "\n",
        "**Deathmatch:** A mode where players respawn quickly and aim to get as many kills as possible within a set time limit.\n",
        "\n",
        "**Wingman:** A 2v2 competitive mode with smaller maps and shorter rounds.\n",
        "\n",
        "Counter-Strike has evolved over the years with different versions, including Counter-Strike 1.6, Counter-Strike: Source, and Counter-Strike: Global Offensive (CS:GO), which is the most recent and widely played installment as of last updated in September 2021.\n",
        "\n",
        "CS:GO is known for its competitive gameplay, professional esports scene, and ongoing updates that have kept the game relevant and enjoyable for players worldwide. It remains a cornerstone of the first-person shooter genre."
      ]
    },
    {
      "cell_type": "markdown",
      "metadata": {
        "id": "sW7ng2U3Tawj"
      },
      "source": [
        "**Trailer of game** : https://www.youtube.com/watch?v=RzZ2bWZ_8Ho&ab_channel=Valve\n",
        "\n",
        "Data Set - https://drive.google.com/drive/folders/1eUbcqunBphBQns4p07Dre5Hnt449fK8l?usp=drive_link"
      ]
    },
    {
      "cell_type": "code",
      "execution_count": 1,
      "metadata": {
        "id": "2KD2QH_9D_8t"
      },
      "outputs": [],
      "source": [
        "import pandas as pd\n",
        "import numpy as np\n",
        "import matplotlib.pyplot as plt"
      ]
    },
    {
      "cell_type": "code",
      "execution_count": 4,
      "metadata": {
        "colab": {
          "base_uri": "https://localhost:8080/"
        },
        "id": "a0AUsjs6H-kE",
        "outputId": "2d81f32d-af59-44e7-e7af-df760e7b6f78"
      },
      "outputs": [],
      "source": [
        "# df=pd.read_csv(\"/content/csgo.csv\")    # G colab \n",
        "df = pd.read_csv(\"/Users/upesh/Desktop/Projects/DataSets/csgo.csv\")  # Local file"
      ]
    },
    {
      "cell_type": "code",
      "execution_count": 5,
      "metadata": {
        "colab": {
          "base_uri": "https://localhost:8080/",
          "height": 443
        },
        "id": "unCTzfa3JYHr",
        "outputId": "a10de703-32ac-4aee-e0e2-8c0c0c68b6dd"
      },
      "outputs": [
        {
          "data": {
            "text/html": [
              "<div>\n",
              "<style scoped>\n",
              "    .dataframe tbody tr th:only-of-type {\n",
              "        vertical-align: middle;\n",
              "    }\n",
              "\n",
              "    .dataframe tbody tr th {\n",
              "        vertical-align: top;\n",
              "    }\n",
              "\n",
              "    .dataframe thead th {\n",
              "        text-align: right;\n",
              "    }\n",
              "</style>\n",
              "<table border=\"1\" class=\"dataframe\">\n",
              "  <thead>\n",
              "    <tr style=\"text-align: right;\">\n",
              "      <th></th>\n",
              "      <th>time_left</th>\n",
              "      <th>ct_score</th>\n",
              "      <th>t_score</th>\n",
              "      <th>map</th>\n",
              "      <th>bomb_planted</th>\n",
              "      <th>ct_health</th>\n",
              "      <th>t_health</th>\n",
              "      <th>ct_armor</th>\n",
              "      <th>t_armor</th>\n",
              "      <th>ct_money</th>\n",
              "      <th>...</th>\n",
              "      <th>t_grenade_flashbang</th>\n",
              "      <th>ct_grenade_smokegrenade</th>\n",
              "      <th>t_grenade_smokegrenade</th>\n",
              "      <th>ct_grenade_incendiarygrenade</th>\n",
              "      <th>t_grenade_incendiarygrenade</th>\n",
              "      <th>ct_grenade_molotovgrenade</th>\n",
              "      <th>t_grenade_molotovgrenade</th>\n",
              "      <th>ct_grenade_decoygrenade</th>\n",
              "      <th>t_grenade_decoygrenade</th>\n",
              "      <th>round_winner</th>\n",
              "    </tr>\n",
              "  </thead>\n",
              "  <tbody>\n",
              "    <tr>\n",
              "      <th>0</th>\n",
              "      <td>175.00</td>\n",
              "      <td>0.0</td>\n",
              "      <td>0.0</td>\n",
              "      <td>de_dust2</td>\n",
              "      <td>False</td>\n",
              "      <td>500.0</td>\n",
              "      <td>500.0</td>\n",
              "      <td>0.0</td>\n",
              "      <td>0.0</td>\n",
              "      <td>4000.0</td>\n",
              "      <td>...</td>\n",
              "      <td>0.0</td>\n",
              "      <td>0.0</td>\n",
              "      <td>0.0</td>\n",
              "      <td>0.0</td>\n",
              "      <td>0.0</td>\n",
              "      <td>0.0</td>\n",
              "      <td>0.0</td>\n",
              "      <td>0.0</td>\n",
              "      <td>0.0</td>\n",
              "      <td>CT</td>\n",
              "    </tr>\n",
              "    <tr>\n",
              "      <th>1</th>\n",
              "      <td>156.03</td>\n",
              "      <td>0.0</td>\n",
              "      <td>0.0</td>\n",
              "      <td>de_dust2</td>\n",
              "      <td>False</td>\n",
              "      <td>500.0</td>\n",
              "      <td>500.0</td>\n",
              "      <td>400.0</td>\n",
              "      <td>300.0</td>\n",
              "      <td>600.0</td>\n",
              "      <td>...</td>\n",
              "      <td>0.0</td>\n",
              "      <td>0.0</td>\n",
              "      <td>2.0</td>\n",
              "      <td>0.0</td>\n",
              "      <td>0.0</td>\n",
              "      <td>0.0</td>\n",
              "      <td>0.0</td>\n",
              "      <td>0.0</td>\n",
              "      <td>0.0</td>\n",
              "      <td>CT</td>\n",
              "    </tr>\n",
              "    <tr>\n",
              "      <th>2</th>\n",
              "      <td>96.03</td>\n",
              "      <td>0.0</td>\n",
              "      <td>0.0</td>\n",
              "      <td>de_dust2</td>\n",
              "      <td>False</td>\n",
              "      <td>391.0</td>\n",
              "      <td>400.0</td>\n",
              "      <td>294.0</td>\n",
              "      <td>200.0</td>\n",
              "      <td>750.0</td>\n",
              "      <td>...</td>\n",
              "      <td>0.0</td>\n",
              "      <td>0.0</td>\n",
              "      <td>2.0</td>\n",
              "      <td>0.0</td>\n",
              "      <td>0.0</td>\n",
              "      <td>0.0</td>\n",
              "      <td>0.0</td>\n",
              "      <td>0.0</td>\n",
              "      <td>0.0</td>\n",
              "      <td>CT</td>\n",
              "    </tr>\n",
              "    <tr>\n",
              "      <th>3</th>\n",
              "      <td>76.03</td>\n",
              "      <td>0.0</td>\n",
              "      <td>0.0</td>\n",
              "      <td>de_dust2</td>\n",
              "      <td>False</td>\n",
              "      <td>391.0</td>\n",
              "      <td>400.0</td>\n",
              "      <td>294.0</td>\n",
              "      <td>200.0</td>\n",
              "      <td>750.0</td>\n",
              "      <td>...</td>\n",
              "      <td>0.0</td>\n",
              "      <td>0.0</td>\n",
              "      <td>0.0</td>\n",
              "      <td>0.0</td>\n",
              "      <td>0.0</td>\n",
              "      <td>0.0</td>\n",
              "      <td>0.0</td>\n",
              "      <td>0.0</td>\n",
              "      <td>0.0</td>\n",
              "      <td>CT</td>\n",
              "    </tr>\n",
              "    <tr>\n",
              "      <th>4</th>\n",
              "      <td>174.97</td>\n",
              "      <td>1.0</td>\n",
              "      <td>0.0</td>\n",
              "      <td>de_dust2</td>\n",
              "      <td>False</td>\n",
              "      <td>500.0</td>\n",
              "      <td>500.0</td>\n",
              "      <td>192.0</td>\n",
              "      <td>0.0</td>\n",
              "      <td>18350.0</td>\n",
              "      <td>...</td>\n",
              "      <td>0.0</td>\n",
              "      <td>0.0</td>\n",
              "      <td>0.0</td>\n",
              "      <td>0.0</td>\n",
              "      <td>0.0</td>\n",
              "      <td>0.0</td>\n",
              "      <td>0.0</td>\n",
              "      <td>0.0</td>\n",
              "      <td>0.0</td>\n",
              "      <td>CT</td>\n",
              "    </tr>\n",
              "    <tr>\n",
              "      <th>...</th>\n",
              "      <td>...</td>\n",
              "      <td>...</td>\n",
              "      <td>...</td>\n",
              "      <td>...</td>\n",
              "      <td>...</td>\n",
              "      <td>...</td>\n",
              "      <td>...</td>\n",
              "      <td>...</td>\n",
              "      <td>...</td>\n",
              "      <td>...</td>\n",
              "      <td>...</td>\n",
              "      <td>...</td>\n",
              "      <td>...</td>\n",
              "      <td>...</td>\n",
              "      <td>...</td>\n",
              "      <td>...</td>\n",
              "      <td>...</td>\n",
              "      <td>...</td>\n",
              "      <td>...</td>\n",
              "      <td>...</td>\n",
              "      <td>...</td>\n",
              "    </tr>\n",
              "    <tr>\n",
              "      <th>122405</th>\n",
              "      <td>15.41</td>\n",
              "      <td>11.0</td>\n",
              "      <td>14.0</td>\n",
              "      <td>de_train</td>\n",
              "      <td>True</td>\n",
              "      <td>200.0</td>\n",
              "      <td>242.0</td>\n",
              "      <td>195.0</td>\n",
              "      <td>359.0</td>\n",
              "      <td>100.0</td>\n",
              "      <td>...</td>\n",
              "      <td>2.0</td>\n",
              "      <td>1.0</td>\n",
              "      <td>1.0</td>\n",
              "      <td>0.0</td>\n",
              "      <td>0.0</td>\n",
              "      <td>0.0</td>\n",
              "      <td>0.0</td>\n",
              "      <td>0.0</td>\n",
              "      <td>0.0</td>\n",
              "      <td>T</td>\n",
              "    </tr>\n",
              "    <tr>\n",
              "      <th>122406</th>\n",
              "      <td>174.93</td>\n",
              "      <td>11.0</td>\n",
              "      <td>15.0</td>\n",
              "      <td>de_train</td>\n",
              "      <td>False</td>\n",
              "      <td>500.0</td>\n",
              "      <td>500.0</td>\n",
              "      <td>95.0</td>\n",
              "      <td>175.0</td>\n",
              "      <td>11500.0</td>\n",
              "      <td>...</td>\n",
              "      <td>2.0</td>\n",
              "      <td>1.0</td>\n",
              "      <td>0.0</td>\n",
              "      <td>0.0</td>\n",
              "      <td>0.0</td>\n",
              "      <td>0.0</td>\n",
              "      <td>0.0</td>\n",
              "      <td>0.0</td>\n",
              "      <td>0.0</td>\n",
              "      <td>T</td>\n",
              "    </tr>\n",
              "    <tr>\n",
              "      <th>122407</th>\n",
              "      <td>114.93</td>\n",
              "      <td>11.0</td>\n",
              "      <td>15.0</td>\n",
              "      <td>de_train</td>\n",
              "      <td>False</td>\n",
              "      <td>500.0</td>\n",
              "      <td>500.0</td>\n",
              "      <td>495.0</td>\n",
              "      <td>475.0</td>\n",
              "      <td>1200.0</td>\n",
              "      <td>...</td>\n",
              "      <td>4.0</td>\n",
              "      <td>3.0</td>\n",
              "      <td>5.0</td>\n",
              "      <td>1.0</td>\n",
              "      <td>0.0</td>\n",
              "      <td>0.0</td>\n",
              "      <td>5.0</td>\n",
              "      <td>0.0</td>\n",
              "      <td>0.0</td>\n",
              "      <td>T</td>\n",
              "    </tr>\n",
              "    <tr>\n",
              "      <th>122408</th>\n",
              "      <td>94.93</td>\n",
              "      <td>11.0</td>\n",
              "      <td>15.0</td>\n",
              "      <td>de_train</td>\n",
              "      <td>False</td>\n",
              "      <td>500.0</td>\n",
              "      <td>500.0</td>\n",
              "      <td>495.0</td>\n",
              "      <td>475.0</td>\n",
              "      <td>1200.0</td>\n",
              "      <td>...</td>\n",
              "      <td>5.0</td>\n",
              "      <td>0.0</td>\n",
              "      <td>3.0</td>\n",
              "      <td>0.0</td>\n",
              "      <td>0.0</td>\n",
              "      <td>0.0</td>\n",
              "      <td>4.0</td>\n",
              "      <td>0.0</td>\n",
              "      <td>0.0</td>\n",
              "      <td>T</td>\n",
              "    </tr>\n",
              "    <tr>\n",
              "      <th>122409</th>\n",
              "      <td>74.93</td>\n",
              "      <td>11.0</td>\n",
              "      <td>15.0</td>\n",
              "      <td>de_train</td>\n",
              "      <td>False</td>\n",
              "      <td>375.0</td>\n",
              "      <td>479.0</td>\n",
              "      <td>395.0</td>\n",
              "      <td>466.0</td>\n",
              "      <td>1100.0</td>\n",
              "      <td>...</td>\n",
              "      <td>3.0</td>\n",
              "      <td>0.0</td>\n",
              "      <td>2.0</td>\n",
              "      <td>0.0</td>\n",
              "      <td>0.0</td>\n",
              "      <td>0.0</td>\n",
              "      <td>3.0</td>\n",
              "      <td>0.0</td>\n",
              "      <td>0.0</td>\n",
              "      <td>T</td>\n",
              "    </tr>\n",
              "  </tbody>\n",
              "</table>\n",
              "<p>122410 rows × 97 columns</p>\n",
              "</div>"
            ],
            "text/plain": [
              "        time_left  ct_score  t_score       map  bomb_planted  ct_health  \\\n",
              "0          175.00       0.0      0.0  de_dust2         False      500.0   \n",
              "1          156.03       0.0      0.0  de_dust2         False      500.0   \n",
              "2           96.03       0.0      0.0  de_dust2         False      391.0   \n",
              "3           76.03       0.0      0.0  de_dust2         False      391.0   \n",
              "4          174.97       1.0      0.0  de_dust2         False      500.0   \n",
              "...           ...       ...      ...       ...           ...        ...   \n",
              "122405      15.41      11.0     14.0  de_train          True      200.0   \n",
              "122406     174.93      11.0     15.0  de_train         False      500.0   \n",
              "122407     114.93      11.0     15.0  de_train         False      500.0   \n",
              "122408      94.93      11.0     15.0  de_train         False      500.0   \n",
              "122409      74.93      11.0     15.0  de_train         False      375.0   \n",
              "\n",
              "        t_health  ct_armor  t_armor  ct_money  ...  t_grenade_flashbang  \\\n",
              "0          500.0       0.0      0.0    4000.0  ...                  0.0   \n",
              "1          500.0     400.0    300.0     600.0  ...                  0.0   \n",
              "2          400.0     294.0    200.0     750.0  ...                  0.0   \n",
              "3          400.0     294.0    200.0     750.0  ...                  0.0   \n",
              "4          500.0     192.0      0.0   18350.0  ...                  0.0   \n",
              "...          ...       ...      ...       ...  ...                  ...   \n",
              "122405     242.0     195.0    359.0     100.0  ...                  2.0   \n",
              "122406     500.0      95.0    175.0   11500.0  ...                  2.0   \n",
              "122407     500.0     495.0    475.0    1200.0  ...                  4.0   \n",
              "122408     500.0     495.0    475.0    1200.0  ...                  5.0   \n",
              "122409     479.0     395.0    466.0    1100.0  ...                  3.0   \n",
              "\n",
              "        ct_grenade_smokegrenade  t_grenade_smokegrenade  \\\n",
              "0                           0.0                     0.0   \n",
              "1                           0.0                     2.0   \n",
              "2                           0.0                     2.0   \n",
              "3                           0.0                     0.0   \n",
              "4                           0.0                     0.0   \n",
              "...                         ...                     ...   \n",
              "122405                      1.0                     1.0   \n",
              "122406                      1.0                     0.0   \n",
              "122407                      3.0                     5.0   \n",
              "122408                      0.0                     3.0   \n",
              "122409                      0.0                     2.0   \n",
              "\n",
              "        ct_grenade_incendiarygrenade  t_grenade_incendiarygrenade  \\\n",
              "0                                0.0                          0.0   \n",
              "1                                0.0                          0.0   \n",
              "2                                0.0                          0.0   \n",
              "3                                0.0                          0.0   \n",
              "4                                0.0                          0.0   \n",
              "...                              ...                          ...   \n",
              "122405                           0.0                          0.0   \n",
              "122406                           0.0                          0.0   \n",
              "122407                           1.0                          0.0   \n",
              "122408                           0.0                          0.0   \n",
              "122409                           0.0                          0.0   \n",
              "\n",
              "        ct_grenade_molotovgrenade  t_grenade_molotovgrenade  \\\n",
              "0                             0.0                       0.0   \n",
              "1                             0.0                       0.0   \n",
              "2                             0.0                       0.0   \n",
              "3                             0.0                       0.0   \n",
              "4                             0.0                       0.0   \n",
              "...                           ...                       ...   \n",
              "122405                        0.0                       0.0   \n",
              "122406                        0.0                       0.0   \n",
              "122407                        0.0                       5.0   \n",
              "122408                        0.0                       4.0   \n",
              "122409                        0.0                       3.0   \n",
              "\n",
              "        ct_grenade_decoygrenade  t_grenade_decoygrenade  round_winner  \n",
              "0                           0.0                     0.0            CT  \n",
              "1                           0.0                     0.0            CT  \n",
              "2                           0.0                     0.0            CT  \n",
              "3                           0.0                     0.0            CT  \n",
              "4                           0.0                     0.0            CT  \n",
              "...                         ...                     ...           ...  \n",
              "122405                      0.0                     0.0             T  \n",
              "122406                      0.0                     0.0             T  \n",
              "122407                      0.0                     0.0             T  \n",
              "122408                      0.0                     0.0             T  \n",
              "122409                      0.0                     0.0             T  \n",
              "\n",
              "[122410 rows x 97 columns]"
            ]
          },
          "execution_count": 5,
          "metadata": {},
          "output_type": "execute_result"
        }
      ],
      "source": [
        "df"
      ]
    },
    {
      "cell_type": "markdown",
      "metadata": {
        "id": "Y3R61VpY12nv"
      },
      "source": [
        "1 Lakh 22 thousand 4 hundred 10 rows and 97 columns"
      ]
    },
    {
      "cell_type": "markdown",
      "metadata": {},
      "source": [
        "## EDA - Exploratory Data Analysis"
      ]
    },
    {
      "cell_type": "code",
      "execution_count": 7,
      "metadata": {
        "colab": {
          "base_uri": "https://localhost:8080/"
        },
        "id": "5GtcLS3DJZP8",
        "outputId": "455891a7-5c9f-4542-d615-48d2805db54a"
      },
      "outputs": [
        {
          "data": {
            "text/plain": [
              "Index(['time_left', 'ct_score', 't_score', 'map', 'bomb_planted', 'ct_health',\n",
              "       't_health', 'ct_armor', 't_armor', 'ct_money', 't_money', 'ct_helmets',\n",
              "       't_helmets', 'ct_defuse_kits', 'ct_players_alive', 't_players_alive',\n",
              "       'ct_weapon_ak47', 't_weapon_ak47', 'ct_weapon_aug', 't_weapon_aug',\n",
              "       'ct_weapon_awp', 't_weapon_awp', 'ct_weapon_bizon', 't_weapon_bizon',\n",
              "       'ct_weapon_cz75auto', 't_weapon_cz75auto', 'ct_weapon_elite',\n",
              "       't_weapon_elite', 'ct_weapon_famas', 't_weapon_famas',\n",
              "       'ct_weapon_g3sg1', 't_weapon_g3sg1', 'ct_weapon_galilar',\n",
              "       't_weapon_galilar', 'ct_weapon_glock', 't_weapon_glock',\n",
              "       'ct_weapon_m249', 't_weapon_m249', 'ct_weapon_m4a1s', 't_weapon_m4a1s',\n",
              "       'ct_weapon_m4a4', 't_weapon_m4a4', 'ct_weapon_mac10', 't_weapon_mac10',\n",
              "       'ct_weapon_mag7', 't_weapon_mag7', 'ct_weapon_mp5sd', 't_weapon_mp5sd',\n",
              "       'ct_weapon_mp7', 't_weapon_mp7', 'ct_weapon_mp9', 't_weapon_mp9',\n",
              "       'ct_weapon_negev', 't_weapon_negev', 'ct_weapon_nova', 't_weapon_nova',\n",
              "       'ct_weapon_p90', 't_weapon_p90', 'ct_weapon_r8revolver',\n",
              "       't_weapon_r8revolver', 'ct_weapon_sawedoff', 't_weapon_sawedoff',\n",
              "       'ct_weapon_scar20', 't_weapon_scar20', 'ct_weapon_sg553',\n",
              "       't_weapon_sg553', 'ct_weapon_ssg08', 't_weapon_ssg08',\n",
              "       'ct_weapon_ump45', 't_weapon_ump45', 'ct_weapon_xm1014',\n",
              "       't_weapon_xm1014', 'ct_weapon_deagle', 't_weapon_deagle',\n",
              "       'ct_weapon_fiveseven', 't_weapon_fiveseven', 'ct_weapon_usps',\n",
              "       't_weapon_usps', 'ct_weapon_p250', 't_weapon_p250', 'ct_weapon_p2000',\n",
              "       't_weapon_p2000', 'ct_weapon_tec9', 't_weapon_tec9',\n",
              "       'ct_grenade_hegrenade', 't_grenade_hegrenade', 'ct_grenade_flashbang',\n",
              "       't_grenade_flashbang', 'ct_grenade_smokegrenade',\n",
              "       't_grenade_smokegrenade', 'ct_grenade_incendiarygrenade',\n",
              "       't_grenade_incendiarygrenade', 'ct_grenade_molotovgrenade',\n",
              "       't_grenade_molotovgrenade', 'ct_grenade_decoygrenade',\n",
              "       't_grenade_decoygrenade', 'round_winner'],\n",
              "      dtype='object')"
            ]
          },
          "execution_count": 7,
          "metadata": {},
          "output_type": "execute_result"
        }
      ],
      "source": [
        "df.columns   # for getting the columns of the dataframe"
      ]
    },
    {
      "cell_type": "code",
      "execution_count": 8,
      "metadata": {},
      "outputs": [
        {
          "data": {
            "text/plain": [
              "(122410, 97)"
            ]
          },
          "execution_count": 8,
          "metadata": {},
          "output_type": "execute_result"
        }
      ],
      "source": [
        "df.shape  # for getting the shape of the dataframe"
      ]
    },
    {
      "cell_type": "code",
      "execution_count": null,
      "metadata": {
        "colab": {
          "base_uri": "https://localhost:8080/"
        },
        "id": "HVuLc9-HJf6k",
        "outputId": "cf1b6770-0ee9-46be-8af3-641ff9c0f5b0"
      },
      "outputs": [
        {
          "name": "stdout",
          "output_type": "stream",
          "text": [
            "<class 'pandas.core.frame.DataFrame'>\n",
            "RangeIndex: 122410 entries, 0 to 122409\n",
            "Data columns (total 97 columns):\n",
            " #   Column                        Non-Null Count   Dtype  \n",
            "---  ------                        --------------   -----  \n",
            " 0   time_left                     122410 non-null  float64\n",
            " 1   ct_score                      122410 non-null  float64\n",
            " 2   t_score                       122410 non-null  float64\n",
            " 3   map                           122410 non-null  object \n",
            " 4   bomb_planted                  122410 non-null  bool   \n",
            " 5   ct_health                     122410 non-null  float64\n",
            " 6   t_health                      122410 non-null  float64\n",
            " 7   ct_armor                      122410 non-null  float64\n",
            " 8   t_armor                       122410 non-null  float64\n",
            " 9   ct_money                      122410 non-null  float64\n",
            " 10  t_money                       122410 non-null  float64\n",
            " 11  ct_helmets                    122410 non-null  float64\n",
            " 12  t_helmets                     122410 non-null  float64\n",
            " 13  ct_defuse_kits                122410 non-null  float64\n",
            " 14  ct_players_alive              122410 non-null  float64\n",
            " 15  t_players_alive               122410 non-null  float64\n",
            " 16  ct_weapon_ak47                122410 non-null  float64\n",
            " 17  t_weapon_ak47                 122410 non-null  float64\n",
            " 18  ct_weapon_aug                 122410 non-null  float64\n",
            " 19  t_weapon_aug                  122410 non-null  float64\n",
            " 20  ct_weapon_awp                 122410 non-null  float64\n",
            " 21  t_weapon_awp                  122410 non-null  float64\n",
            " 22  ct_weapon_bizon               122410 non-null  float64\n",
            " 23  t_weapon_bizon                122410 non-null  float64\n",
            " 24  ct_weapon_cz75auto            122410 non-null  float64\n",
            " 25  t_weapon_cz75auto             122410 non-null  float64\n",
            " 26  ct_weapon_elite               122410 non-null  float64\n",
            " 27  t_weapon_elite                122410 non-null  float64\n",
            " 28  ct_weapon_famas               122410 non-null  float64\n",
            " 29  t_weapon_famas                122410 non-null  float64\n",
            " 30  ct_weapon_g3sg1               122410 non-null  float64\n",
            " 31  t_weapon_g3sg1                122410 non-null  float64\n",
            " 32  ct_weapon_galilar             122410 non-null  float64\n",
            " 33  t_weapon_galilar              122410 non-null  float64\n",
            " 34  ct_weapon_glock               122410 non-null  float64\n",
            " 35  t_weapon_glock                122410 non-null  float64\n",
            " 36  ct_weapon_m249                122410 non-null  float64\n",
            " 37  t_weapon_m249                 122410 non-null  float64\n",
            " 38  ct_weapon_m4a1s               122410 non-null  float64\n",
            " 39  t_weapon_m4a1s                122410 non-null  float64\n",
            " 40  ct_weapon_m4a4                122410 non-null  float64\n",
            " 41  t_weapon_m4a4                 122410 non-null  float64\n",
            " 42  ct_weapon_mac10               122410 non-null  float64\n",
            " 43  t_weapon_mac10                122410 non-null  float64\n",
            " 44  ct_weapon_mag7                122410 non-null  float64\n",
            " 45  t_weapon_mag7                 122410 non-null  float64\n",
            " 46  ct_weapon_mp5sd               122410 non-null  float64\n",
            " 47  t_weapon_mp5sd                122410 non-null  float64\n",
            " 48  ct_weapon_mp7                 122410 non-null  float64\n",
            " 49  t_weapon_mp7                  122410 non-null  float64\n",
            " 50  ct_weapon_mp9                 122410 non-null  float64\n",
            " 51  t_weapon_mp9                  122410 non-null  float64\n",
            " 52  ct_weapon_negev               122410 non-null  float64\n",
            " 53  t_weapon_negev                122410 non-null  float64\n",
            " 54  ct_weapon_nova                122410 non-null  float64\n",
            " 55  t_weapon_nova                 122410 non-null  float64\n",
            " 56  ct_weapon_p90                 122410 non-null  float64\n",
            " 57  t_weapon_p90                  122410 non-null  float64\n",
            " 58  ct_weapon_r8revolver          122410 non-null  float64\n",
            " 59  t_weapon_r8revolver           122410 non-null  float64\n",
            " 60  ct_weapon_sawedoff            122410 non-null  float64\n",
            " 61  t_weapon_sawedoff             122410 non-null  float64\n",
            " 62  ct_weapon_scar20              122410 non-null  float64\n",
            " 63  t_weapon_scar20               122410 non-null  float64\n",
            " 64  ct_weapon_sg553               122410 non-null  float64\n",
            " 65  t_weapon_sg553                122410 non-null  float64\n",
            " 66  ct_weapon_ssg08               122410 non-null  float64\n",
            " 67  t_weapon_ssg08                122410 non-null  float64\n",
            " 68  ct_weapon_ump45               122410 non-null  float64\n",
            " 69  t_weapon_ump45                122410 non-null  float64\n",
            " 70  ct_weapon_xm1014              122410 non-null  float64\n",
            " 71  t_weapon_xm1014               122410 non-null  float64\n",
            " 72  ct_weapon_deagle              122410 non-null  float64\n",
            " 73  t_weapon_deagle               122410 non-null  float64\n",
            " 74  ct_weapon_fiveseven           122410 non-null  float64\n",
            " 75  t_weapon_fiveseven            122410 non-null  float64\n",
            " 76  ct_weapon_usps                122410 non-null  float64\n",
            " 77  t_weapon_usps                 122410 non-null  float64\n",
            " 78  ct_weapon_p250                122410 non-null  float64\n",
            " 79  t_weapon_p250                 122410 non-null  float64\n",
            " 80  ct_weapon_p2000               122410 non-null  float64\n",
            " 81  t_weapon_p2000                122410 non-null  float64\n",
            " 82  ct_weapon_tec9                122410 non-null  float64\n",
            " 83  t_weapon_tec9                 122410 non-null  float64\n",
            " 84  ct_grenade_hegrenade          122410 non-null  float64\n",
            " 85  t_grenade_hegrenade           122410 non-null  float64\n",
            " 86  ct_grenade_flashbang          122410 non-null  float64\n",
            " 87  t_grenade_flashbang           122410 non-null  float64\n",
            " 88  ct_grenade_smokegrenade       122410 non-null  float64\n",
            " 89  t_grenade_smokegrenade        122410 non-null  float64\n",
            " 90  ct_grenade_incendiarygrenade  122410 non-null  float64\n",
            " 91  t_grenade_incendiarygrenade   122410 non-null  float64\n",
            " 92  ct_grenade_molotovgrenade     122410 non-null  float64\n",
            " 93  t_grenade_molotovgrenade      122410 non-null  float64\n",
            " 94  ct_grenade_decoygrenade       122410 non-null  float64\n",
            " 95  t_grenade_decoygrenade        122410 non-null  float64\n",
            " 96  round_winner                  122410 non-null  object \n",
            "dtypes: bool(1), float64(94), object(2)\n",
            "memory usage: 89.8+ MB\n"
          ]
        }
      ],
      "source": [
        "df.info()  # for getting the information of the dataframe"
      ]
    },
    {
      "cell_type": "code",
      "execution_count": 10,
      "metadata": {
        "colab": {
          "base_uri": "https://localhost:8080/",
          "height": 458
        },
        "id": "IVElTwqNLJX2",
        "outputId": "4f03ba77-ae62-4379-9429-55db65b8356e"
      },
      "outputs": [
        {
          "data": {
            "text/plain": [
              "time_left                    0\n",
              "ct_score                     0\n",
              "t_score                      0\n",
              "map                          0\n",
              "bomb_planted                 0\n",
              "                            ..\n",
              "ct_grenade_molotovgrenade    0\n",
              "t_grenade_molotovgrenade     0\n",
              "ct_grenade_decoygrenade      0\n",
              "t_grenade_decoygrenade       0\n",
              "round_winner                 0\n",
              "Length: 97, dtype: int64"
            ]
          },
          "execution_count": 10,
          "metadata": {},
          "output_type": "execute_result"
        }
      ],
      "source": [
        "df.isnull().sum() # Checking for Null values"
      ]
    },
    {
      "cell_type": "code",
      "execution_count": 11,
      "metadata": {
        "colab": {
          "base_uri": "https://localhost:8080/"
        },
        "id": "I8655iV4LY_Z",
        "outputId": "2a129532-c34f-4135-a117-6fabbdceac3c"
      },
      "outputs": [
        {
          "data": {
            "text/plain": [
              "0"
            ]
          },
          "execution_count": 11,
          "metadata": {},
          "output_type": "execute_result"
        }
      ],
      "source": [
        "df.isnull().sum().sum()"
      ]
    },
    {
      "cell_type": "code",
      "execution_count": null,
      "metadata": {
        "id": "ZKVYz0LhRcjQ"
      },
      "outputs": [],
      "source": [
        "df.dropna(inplace=True) # Dropping the null values from the dataframe"
      ]
    },
    {
      "cell_type": "code",
      "execution_count": 13,
      "metadata": {
        "colab": {
          "base_uri": "https://localhost:8080/"
        },
        "id": "gGEulr2uLfTn",
        "outputId": "10c65183-644a-4ee4-cd66-3b82c0e34de4"
      },
      "outputs": [
        {
          "data": {
            "text/plain": [
              "4962"
            ]
          },
          "execution_count": 13,
          "metadata": {},
          "output_type": "execute_result"
        }
      ],
      "source": [
        "df.duplicated().sum() # Checking for duplicate values"
      ]
    },
    {
      "cell_type": "code",
      "execution_count": 14,
      "metadata": {
        "id": "7i0-GuDhLjkZ"
      },
      "outputs": [],
      "source": [
        "df.drop_duplicates(inplace=True) # Dropping the duplicate values from the dataframe"
      ]
    },
    {
      "cell_type": "code",
      "execution_count": 15,
      "metadata": {
        "colab": {
          "base_uri": "https://localhost:8080/",
          "height": 443
        },
        "id": "qniVpxd7LxZy",
        "outputId": "f70ee176-0b34-4257-fe91-e61d9000146a"
      },
      "outputs": [
        {
          "data": {
            "text/html": [
              "<div>\n",
              "<style scoped>\n",
              "    .dataframe tbody tr th:only-of-type {\n",
              "        vertical-align: middle;\n",
              "    }\n",
              "\n",
              "    .dataframe tbody tr th {\n",
              "        vertical-align: top;\n",
              "    }\n",
              "\n",
              "    .dataframe thead th {\n",
              "        text-align: right;\n",
              "    }\n",
              "</style>\n",
              "<table border=\"1\" class=\"dataframe\">\n",
              "  <thead>\n",
              "    <tr style=\"text-align: right;\">\n",
              "      <th></th>\n",
              "      <th>time_left</th>\n",
              "      <th>ct_score</th>\n",
              "      <th>t_score</th>\n",
              "      <th>map</th>\n",
              "      <th>bomb_planted</th>\n",
              "      <th>ct_health</th>\n",
              "      <th>t_health</th>\n",
              "      <th>ct_armor</th>\n",
              "      <th>t_armor</th>\n",
              "      <th>ct_money</th>\n",
              "      <th>...</th>\n",
              "      <th>t_grenade_flashbang</th>\n",
              "      <th>ct_grenade_smokegrenade</th>\n",
              "      <th>t_grenade_smokegrenade</th>\n",
              "      <th>ct_grenade_incendiarygrenade</th>\n",
              "      <th>t_grenade_incendiarygrenade</th>\n",
              "      <th>ct_grenade_molotovgrenade</th>\n",
              "      <th>t_grenade_molotovgrenade</th>\n",
              "      <th>ct_grenade_decoygrenade</th>\n",
              "      <th>t_grenade_decoygrenade</th>\n",
              "      <th>round_winner</th>\n",
              "    </tr>\n",
              "  </thead>\n",
              "  <tbody>\n",
              "    <tr>\n",
              "      <th>0</th>\n",
              "      <td>175.00</td>\n",
              "      <td>0.0</td>\n",
              "      <td>0.0</td>\n",
              "      <td>de_dust2</td>\n",
              "      <td>False</td>\n",
              "      <td>500.0</td>\n",
              "      <td>500.0</td>\n",
              "      <td>0.0</td>\n",
              "      <td>0.0</td>\n",
              "      <td>4000.0</td>\n",
              "      <td>...</td>\n",
              "      <td>0.0</td>\n",
              "      <td>0.0</td>\n",
              "      <td>0.0</td>\n",
              "      <td>0.0</td>\n",
              "      <td>0.0</td>\n",
              "      <td>0.0</td>\n",
              "      <td>0.0</td>\n",
              "      <td>0.0</td>\n",
              "      <td>0.0</td>\n",
              "      <td>CT</td>\n",
              "    </tr>\n",
              "    <tr>\n",
              "      <th>1</th>\n",
              "      <td>156.03</td>\n",
              "      <td>0.0</td>\n",
              "      <td>0.0</td>\n",
              "      <td>de_dust2</td>\n",
              "      <td>False</td>\n",
              "      <td>500.0</td>\n",
              "      <td>500.0</td>\n",
              "      <td>400.0</td>\n",
              "      <td>300.0</td>\n",
              "      <td>600.0</td>\n",
              "      <td>...</td>\n",
              "      <td>0.0</td>\n",
              "      <td>0.0</td>\n",
              "      <td>2.0</td>\n",
              "      <td>0.0</td>\n",
              "      <td>0.0</td>\n",
              "      <td>0.0</td>\n",
              "      <td>0.0</td>\n",
              "      <td>0.0</td>\n",
              "      <td>0.0</td>\n",
              "      <td>CT</td>\n",
              "    </tr>\n",
              "    <tr>\n",
              "      <th>2</th>\n",
              "      <td>96.03</td>\n",
              "      <td>0.0</td>\n",
              "      <td>0.0</td>\n",
              "      <td>de_dust2</td>\n",
              "      <td>False</td>\n",
              "      <td>391.0</td>\n",
              "      <td>400.0</td>\n",
              "      <td>294.0</td>\n",
              "      <td>200.0</td>\n",
              "      <td>750.0</td>\n",
              "      <td>...</td>\n",
              "      <td>0.0</td>\n",
              "      <td>0.0</td>\n",
              "      <td>2.0</td>\n",
              "      <td>0.0</td>\n",
              "      <td>0.0</td>\n",
              "      <td>0.0</td>\n",
              "      <td>0.0</td>\n",
              "      <td>0.0</td>\n",
              "      <td>0.0</td>\n",
              "      <td>CT</td>\n",
              "    </tr>\n",
              "    <tr>\n",
              "      <th>3</th>\n",
              "      <td>76.03</td>\n",
              "      <td>0.0</td>\n",
              "      <td>0.0</td>\n",
              "      <td>de_dust2</td>\n",
              "      <td>False</td>\n",
              "      <td>391.0</td>\n",
              "      <td>400.0</td>\n",
              "      <td>294.0</td>\n",
              "      <td>200.0</td>\n",
              "      <td>750.0</td>\n",
              "      <td>...</td>\n",
              "      <td>0.0</td>\n",
              "      <td>0.0</td>\n",
              "      <td>0.0</td>\n",
              "      <td>0.0</td>\n",
              "      <td>0.0</td>\n",
              "      <td>0.0</td>\n",
              "      <td>0.0</td>\n",
              "      <td>0.0</td>\n",
              "      <td>0.0</td>\n",
              "      <td>CT</td>\n",
              "    </tr>\n",
              "    <tr>\n",
              "      <th>4</th>\n",
              "      <td>174.97</td>\n",
              "      <td>1.0</td>\n",
              "      <td>0.0</td>\n",
              "      <td>de_dust2</td>\n",
              "      <td>False</td>\n",
              "      <td>500.0</td>\n",
              "      <td>500.0</td>\n",
              "      <td>192.0</td>\n",
              "      <td>0.0</td>\n",
              "      <td>18350.0</td>\n",
              "      <td>...</td>\n",
              "      <td>0.0</td>\n",
              "      <td>0.0</td>\n",
              "      <td>0.0</td>\n",
              "      <td>0.0</td>\n",
              "      <td>0.0</td>\n",
              "      <td>0.0</td>\n",
              "      <td>0.0</td>\n",
              "      <td>0.0</td>\n",
              "      <td>0.0</td>\n",
              "      <td>CT</td>\n",
              "    </tr>\n",
              "    <tr>\n",
              "      <th>...</th>\n",
              "      <td>...</td>\n",
              "      <td>...</td>\n",
              "      <td>...</td>\n",
              "      <td>...</td>\n",
              "      <td>...</td>\n",
              "      <td>...</td>\n",
              "      <td>...</td>\n",
              "      <td>...</td>\n",
              "      <td>...</td>\n",
              "      <td>...</td>\n",
              "      <td>...</td>\n",
              "      <td>...</td>\n",
              "      <td>...</td>\n",
              "      <td>...</td>\n",
              "      <td>...</td>\n",
              "      <td>...</td>\n",
              "      <td>...</td>\n",
              "      <td>...</td>\n",
              "      <td>...</td>\n",
              "      <td>...</td>\n",
              "      <td>...</td>\n",
              "    </tr>\n",
              "    <tr>\n",
              "      <th>122405</th>\n",
              "      <td>15.41</td>\n",
              "      <td>11.0</td>\n",
              "      <td>14.0</td>\n",
              "      <td>de_train</td>\n",
              "      <td>True</td>\n",
              "      <td>200.0</td>\n",
              "      <td>242.0</td>\n",
              "      <td>195.0</td>\n",
              "      <td>359.0</td>\n",
              "      <td>100.0</td>\n",
              "      <td>...</td>\n",
              "      <td>2.0</td>\n",
              "      <td>1.0</td>\n",
              "      <td>1.0</td>\n",
              "      <td>0.0</td>\n",
              "      <td>0.0</td>\n",
              "      <td>0.0</td>\n",
              "      <td>0.0</td>\n",
              "      <td>0.0</td>\n",
              "      <td>0.0</td>\n",
              "      <td>T</td>\n",
              "    </tr>\n",
              "    <tr>\n",
              "      <th>122406</th>\n",
              "      <td>174.93</td>\n",
              "      <td>11.0</td>\n",
              "      <td>15.0</td>\n",
              "      <td>de_train</td>\n",
              "      <td>False</td>\n",
              "      <td>500.0</td>\n",
              "      <td>500.0</td>\n",
              "      <td>95.0</td>\n",
              "      <td>175.0</td>\n",
              "      <td>11500.0</td>\n",
              "      <td>...</td>\n",
              "      <td>2.0</td>\n",
              "      <td>1.0</td>\n",
              "      <td>0.0</td>\n",
              "      <td>0.0</td>\n",
              "      <td>0.0</td>\n",
              "      <td>0.0</td>\n",
              "      <td>0.0</td>\n",
              "      <td>0.0</td>\n",
              "      <td>0.0</td>\n",
              "      <td>T</td>\n",
              "    </tr>\n",
              "    <tr>\n",
              "      <th>122407</th>\n",
              "      <td>114.93</td>\n",
              "      <td>11.0</td>\n",
              "      <td>15.0</td>\n",
              "      <td>de_train</td>\n",
              "      <td>False</td>\n",
              "      <td>500.0</td>\n",
              "      <td>500.0</td>\n",
              "      <td>495.0</td>\n",
              "      <td>475.0</td>\n",
              "      <td>1200.0</td>\n",
              "      <td>...</td>\n",
              "      <td>4.0</td>\n",
              "      <td>3.0</td>\n",
              "      <td>5.0</td>\n",
              "      <td>1.0</td>\n",
              "      <td>0.0</td>\n",
              "      <td>0.0</td>\n",
              "      <td>5.0</td>\n",
              "      <td>0.0</td>\n",
              "      <td>0.0</td>\n",
              "      <td>T</td>\n",
              "    </tr>\n",
              "    <tr>\n",
              "      <th>122408</th>\n",
              "      <td>94.93</td>\n",
              "      <td>11.0</td>\n",
              "      <td>15.0</td>\n",
              "      <td>de_train</td>\n",
              "      <td>False</td>\n",
              "      <td>500.0</td>\n",
              "      <td>500.0</td>\n",
              "      <td>495.0</td>\n",
              "      <td>475.0</td>\n",
              "      <td>1200.0</td>\n",
              "      <td>...</td>\n",
              "      <td>5.0</td>\n",
              "      <td>0.0</td>\n",
              "      <td>3.0</td>\n",
              "      <td>0.0</td>\n",
              "      <td>0.0</td>\n",
              "      <td>0.0</td>\n",
              "      <td>4.0</td>\n",
              "      <td>0.0</td>\n",
              "      <td>0.0</td>\n",
              "      <td>T</td>\n",
              "    </tr>\n",
              "    <tr>\n",
              "      <th>122409</th>\n",
              "      <td>74.93</td>\n",
              "      <td>11.0</td>\n",
              "      <td>15.0</td>\n",
              "      <td>de_train</td>\n",
              "      <td>False</td>\n",
              "      <td>375.0</td>\n",
              "      <td>479.0</td>\n",
              "      <td>395.0</td>\n",
              "      <td>466.0</td>\n",
              "      <td>1100.0</td>\n",
              "      <td>...</td>\n",
              "      <td>3.0</td>\n",
              "      <td>0.0</td>\n",
              "      <td>2.0</td>\n",
              "      <td>0.0</td>\n",
              "      <td>0.0</td>\n",
              "      <td>0.0</td>\n",
              "      <td>3.0</td>\n",
              "      <td>0.0</td>\n",
              "      <td>0.0</td>\n",
              "      <td>T</td>\n",
              "    </tr>\n",
              "  </tbody>\n",
              "</table>\n",
              "<p>117448 rows × 97 columns</p>\n",
              "</div>"
            ],
            "text/plain": [
              "        time_left  ct_score  t_score       map  bomb_planted  ct_health  \\\n",
              "0          175.00       0.0      0.0  de_dust2         False      500.0   \n",
              "1          156.03       0.0      0.0  de_dust2         False      500.0   \n",
              "2           96.03       0.0      0.0  de_dust2         False      391.0   \n",
              "3           76.03       0.0      0.0  de_dust2         False      391.0   \n",
              "4          174.97       1.0      0.0  de_dust2         False      500.0   \n",
              "...           ...       ...      ...       ...           ...        ...   \n",
              "122405      15.41      11.0     14.0  de_train          True      200.0   \n",
              "122406     174.93      11.0     15.0  de_train         False      500.0   \n",
              "122407     114.93      11.0     15.0  de_train         False      500.0   \n",
              "122408      94.93      11.0     15.0  de_train         False      500.0   \n",
              "122409      74.93      11.0     15.0  de_train         False      375.0   \n",
              "\n",
              "        t_health  ct_armor  t_armor  ct_money  ...  t_grenade_flashbang  \\\n",
              "0          500.0       0.0      0.0    4000.0  ...                  0.0   \n",
              "1          500.0     400.0    300.0     600.0  ...                  0.0   \n",
              "2          400.0     294.0    200.0     750.0  ...                  0.0   \n",
              "3          400.0     294.0    200.0     750.0  ...                  0.0   \n",
              "4          500.0     192.0      0.0   18350.0  ...                  0.0   \n",
              "...          ...       ...      ...       ...  ...                  ...   \n",
              "122405     242.0     195.0    359.0     100.0  ...                  2.0   \n",
              "122406     500.0      95.0    175.0   11500.0  ...                  2.0   \n",
              "122407     500.0     495.0    475.0    1200.0  ...                  4.0   \n",
              "122408     500.0     495.0    475.0    1200.0  ...                  5.0   \n",
              "122409     479.0     395.0    466.0    1100.0  ...                  3.0   \n",
              "\n",
              "        ct_grenade_smokegrenade  t_grenade_smokegrenade  \\\n",
              "0                           0.0                     0.0   \n",
              "1                           0.0                     2.0   \n",
              "2                           0.0                     2.0   \n",
              "3                           0.0                     0.0   \n",
              "4                           0.0                     0.0   \n",
              "...                         ...                     ...   \n",
              "122405                      1.0                     1.0   \n",
              "122406                      1.0                     0.0   \n",
              "122407                      3.0                     5.0   \n",
              "122408                      0.0                     3.0   \n",
              "122409                      0.0                     2.0   \n",
              "\n",
              "        ct_grenade_incendiarygrenade  t_grenade_incendiarygrenade  \\\n",
              "0                                0.0                          0.0   \n",
              "1                                0.0                          0.0   \n",
              "2                                0.0                          0.0   \n",
              "3                                0.0                          0.0   \n",
              "4                                0.0                          0.0   \n",
              "...                              ...                          ...   \n",
              "122405                           0.0                          0.0   \n",
              "122406                           0.0                          0.0   \n",
              "122407                           1.0                          0.0   \n",
              "122408                           0.0                          0.0   \n",
              "122409                           0.0                          0.0   \n",
              "\n",
              "        ct_grenade_molotovgrenade  t_grenade_molotovgrenade  \\\n",
              "0                             0.0                       0.0   \n",
              "1                             0.0                       0.0   \n",
              "2                             0.0                       0.0   \n",
              "3                             0.0                       0.0   \n",
              "4                             0.0                       0.0   \n",
              "...                           ...                       ...   \n",
              "122405                        0.0                       0.0   \n",
              "122406                        0.0                       0.0   \n",
              "122407                        0.0                       5.0   \n",
              "122408                        0.0                       4.0   \n",
              "122409                        0.0                       3.0   \n",
              "\n",
              "        ct_grenade_decoygrenade  t_grenade_decoygrenade  round_winner  \n",
              "0                           0.0                     0.0            CT  \n",
              "1                           0.0                     0.0            CT  \n",
              "2                           0.0                     0.0            CT  \n",
              "3                           0.0                     0.0            CT  \n",
              "4                           0.0                     0.0            CT  \n",
              "...                         ...                     ...           ...  \n",
              "122405                      0.0                     0.0             T  \n",
              "122406                      0.0                     0.0             T  \n",
              "122407                      0.0                     0.0             T  \n",
              "122408                      0.0                     0.0             T  \n",
              "122409                      0.0                     0.0             T  \n",
              "\n",
              "[117448 rows x 97 columns]"
            ]
          },
          "execution_count": 15,
          "metadata": {},
          "output_type": "execute_result"
        }
      ],
      "source": [
        "df"
      ]
    },
    {
      "cell_type": "code",
      "execution_count": 16,
      "metadata": {},
      "outputs": [
        {
          "data": {
            "text/plain": [
              "(117448, 97)"
            ]
          },
          "execution_count": 16,
          "metadata": {},
          "output_type": "execute_result"
        }
      ],
      "source": [
        "df.shape"
      ]
    },
    {
      "cell_type": "markdown",
      "metadata": {},
      "source": [
        "after droping null and duplicates vaues we have 117448 rows and 97 cols "
      ]
    },
    {
      "cell_type": "code",
      "execution_count": 18,
      "metadata": {
        "id": "LlS1gvPKLyTe"
      },
      "outputs": [],
      "source": [
        "# this use for whole dataframe as string  \n",
        "# df.to_string()   # Displaying the entire DataFrame as a string"
      ]
    },
    {
      "cell_type": "markdown",
      "metadata": {
        "id": "tKJLn_1lMIXy"
      },
      "source": [
        "Performed some Visualizations to see the relation between the columns"
      ]
    },
    {
      "cell_type": "code",
      "execution_count": 24,
      "metadata": {},
      "outputs": [
        {
          "name": "stdout",
          "output_type": "stream",
          "text": [
            "<class 'pandas.core.frame.DataFrame'>\n",
            "Index: 117448 entries, 0 to 122409\n",
            "Data columns (total 97 columns):\n",
            " #   Column                        Non-Null Count   Dtype  \n",
            "---  ------                        --------------   -----  \n",
            " 0   time_left                     117448 non-null  float64\n",
            " 1   ct_score                      117448 non-null  float64\n",
            " 2   t_score                       117448 non-null  float64\n",
            " 3   map                           117448 non-null  object \n",
            " 4   bomb_planted                  117448 non-null  bool   \n",
            " 5   ct_health                     117448 non-null  float64\n",
            " 6   t_health                      117448 non-null  float64\n",
            " 7   ct_armor                      117448 non-null  float64\n",
            " 8   t_armor                       117448 non-null  float64\n",
            " 9   ct_money                      117448 non-null  float64\n",
            " 10  t_money                       117448 non-null  float64\n",
            " 11  ct_helmets                    117448 non-null  float64\n",
            " 12  t_helmets                     117448 non-null  float64\n",
            " 13  ct_defuse_kits                117448 non-null  float64\n",
            " 14  ct_players_alive              117448 non-null  float64\n",
            " 15  t_players_alive               117448 non-null  float64\n",
            " 16  ct_weapon_ak47                117448 non-null  float64\n",
            " 17  t_weapon_ak47                 117448 non-null  float64\n",
            " 18  ct_weapon_aug                 117448 non-null  float64\n",
            " 19  t_weapon_aug                  117448 non-null  float64\n",
            " 20  ct_weapon_awp                 117448 non-null  float64\n",
            " 21  t_weapon_awp                  117448 non-null  float64\n",
            " 22  ct_weapon_bizon               117448 non-null  float64\n",
            " 23  t_weapon_bizon                117448 non-null  float64\n",
            " 24  ct_weapon_cz75auto            117448 non-null  float64\n",
            " 25  t_weapon_cz75auto             117448 non-null  float64\n",
            " 26  ct_weapon_elite               117448 non-null  float64\n",
            " 27  t_weapon_elite                117448 non-null  float64\n",
            " 28  ct_weapon_famas               117448 non-null  float64\n",
            " 29  t_weapon_famas                117448 non-null  float64\n",
            " 30  ct_weapon_g3sg1               117448 non-null  float64\n",
            " 31  t_weapon_g3sg1                117448 non-null  float64\n",
            " 32  ct_weapon_galilar             117448 non-null  float64\n",
            " 33  t_weapon_galilar              117448 non-null  float64\n",
            " 34  ct_weapon_glock               117448 non-null  float64\n",
            " 35  t_weapon_glock                117448 non-null  float64\n",
            " 36  ct_weapon_m249                117448 non-null  float64\n",
            " 37  t_weapon_m249                 117448 non-null  float64\n",
            " 38  ct_weapon_m4a1s               117448 non-null  float64\n",
            " 39  t_weapon_m4a1s                117448 non-null  float64\n",
            " 40  ct_weapon_m4a4                117448 non-null  float64\n",
            " 41  t_weapon_m4a4                 117448 non-null  float64\n",
            " 42  ct_weapon_mac10               117448 non-null  float64\n",
            " 43  t_weapon_mac10                117448 non-null  float64\n",
            " 44  ct_weapon_mag7                117448 non-null  float64\n",
            " 45  t_weapon_mag7                 117448 non-null  float64\n",
            " 46  ct_weapon_mp5sd               117448 non-null  float64\n",
            " 47  t_weapon_mp5sd                117448 non-null  float64\n",
            " 48  ct_weapon_mp7                 117448 non-null  float64\n",
            " 49  t_weapon_mp7                  117448 non-null  float64\n",
            " 50  ct_weapon_mp9                 117448 non-null  float64\n",
            " 51  t_weapon_mp9                  117448 non-null  float64\n",
            " 52  ct_weapon_negev               117448 non-null  float64\n",
            " 53  t_weapon_negev                117448 non-null  float64\n",
            " 54  ct_weapon_nova                117448 non-null  float64\n",
            " 55  t_weapon_nova                 117448 non-null  float64\n",
            " 56  ct_weapon_p90                 117448 non-null  float64\n",
            " 57  t_weapon_p90                  117448 non-null  float64\n",
            " 58  ct_weapon_r8revolver          117448 non-null  float64\n",
            " 59  t_weapon_r8revolver           117448 non-null  float64\n",
            " 60  ct_weapon_sawedoff            117448 non-null  float64\n",
            " 61  t_weapon_sawedoff             117448 non-null  float64\n",
            " 62  ct_weapon_scar20              117448 non-null  float64\n",
            " 63  t_weapon_scar20               117448 non-null  float64\n",
            " 64  ct_weapon_sg553               117448 non-null  float64\n",
            " 65  t_weapon_sg553                117448 non-null  float64\n",
            " 66  ct_weapon_ssg08               117448 non-null  float64\n",
            " 67  t_weapon_ssg08                117448 non-null  float64\n",
            " 68  ct_weapon_ump45               117448 non-null  float64\n",
            " 69  t_weapon_ump45                117448 non-null  float64\n",
            " 70  ct_weapon_xm1014              117448 non-null  float64\n",
            " 71  t_weapon_xm1014               117448 non-null  float64\n",
            " 72  ct_weapon_deagle              117448 non-null  float64\n",
            " 73  t_weapon_deagle               117448 non-null  float64\n",
            " 74  ct_weapon_fiveseven           117448 non-null  float64\n",
            " 75  t_weapon_fiveseven            117448 non-null  float64\n",
            " 76  ct_weapon_usps                117448 non-null  float64\n",
            " 77  t_weapon_usps                 117448 non-null  float64\n",
            " 78  ct_weapon_p250                117448 non-null  float64\n",
            " 79  t_weapon_p250                 117448 non-null  float64\n",
            " 80  ct_weapon_p2000               117448 non-null  float64\n",
            " 81  t_weapon_p2000                117448 non-null  float64\n",
            " 82  ct_weapon_tec9                117448 non-null  float64\n",
            " 83  t_weapon_tec9                 117448 non-null  float64\n",
            " 84  ct_grenade_hegrenade          117448 non-null  float64\n",
            " 85  t_grenade_hegrenade           117448 non-null  float64\n",
            " 86  ct_grenade_flashbang          117448 non-null  float64\n",
            " 87  t_grenade_flashbang           117448 non-null  float64\n",
            " 88  ct_grenade_smokegrenade       117448 non-null  float64\n",
            " 89  t_grenade_smokegrenade        117448 non-null  float64\n",
            " 90  ct_grenade_incendiarygrenade  117448 non-null  float64\n",
            " 91  t_grenade_incendiarygrenade   117448 non-null  float64\n",
            " 92  ct_grenade_molotovgrenade     117448 non-null  float64\n",
            " 93  t_grenade_molotovgrenade      117448 non-null  float64\n",
            " 94  ct_grenade_decoygrenade       117448 non-null  float64\n",
            " 95  t_grenade_decoygrenade        117448 non-null  float64\n",
            " 96  round_winner                  117448 non-null  object \n",
            "dtypes: bool(1), float64(94), object(2)\n",
            "memory usage: 87.0+ MB\n"
          ]
        }
      ],
      "source": [
        "df.info()  # for getting the information of the dataframe"
      ]
    },
    {
      "cell_type": "code",
      "execution_count": 28,
      "metadata": {},
      "outputs": [
        {
          "data": {
            "image/png": "[encoded data removed]",
            "text/plain": [
              "<Figure size 1200x600 with 1 Axes>"
            ]
          },
          "metadata": {},
          "output_type": "display_data"
        }
      ],
      "source": [
        "import seaborn as sns\n",
        "import matplotlib.pyplot as plt\n",
        "\n",
        "# visualizing round_winner by map \n",
        "plt.figure(figsize=(12, 6))\n",
        "sns.countplot(data=df, x='map', hue='round_winner')\n",
        "plt.title('Round Winner by Map')\n",
        "plt.xticks(rotation=45) # Rotate x-axis labels for better readability\n",
        "plt.xlabel('Map') \n",
        "plt.ylabel('Count')\n",
        "plt.legend(title='Round Winner') \n",
        "plt.tight_layout() \n",
        "plt.show()"
      ]
    },
    {
      "cell_type": "markdown",
      "metadata": {
        "id": "HpMO3A0qMImE"
      },
      "source": [
        "**Feature  Engineering**"
      ]
    },
    {
      "cell_type": "code",
      "execution_count": null,
      "metadata": {
        "id": "1BLrYmVUL78A"
      },
      "outputs": [],
      "source": [
        "# Label Encoding\n",
        "from sklearn.preprocessing import LabelEncoder"
      ]
    },
    {
      "cell_type": "code",
      "execution_count": 29,
      "metadata": {
        "id": "AcAgyHy6Mo12"
      },
      "outputs": [],
      "source": [
        "le=LabelEncoder()"
      ]
    },
    {
      "cell_type": "code",
      "execution_count": 30,
      "metadata": {
        "id": "tiJXgv7mMo4k"
      },
      "outputs": [],
      "source": [
        "# Encoding categorical variables\n",
        "df[\"bomb_planted\"]=le.fit_transform(df[\"bomb_planted\"]) \n",
        "\n",
        "df[\"map\"]=le.fit_transform(df[\"map\"])\n",
        "\n",
        "df[\"round_winner\"]=le.fit_transform(df[\"round_winner\"])"
      ]
    },
    {
      "cell_type": "code",
      "execution_count": 31,
      "metadata": {
        "colab": {
          "base_uri": "https://localhost:8080/",
          "height": 443
        },
        "id": "jf84L_WKMo7N",
        "outputId": "c82f411a-2ddf-4738-ef44-06ba843752cd"
      },
      "outputs": [
        {
          "data": {
            "text/html": [
              "<div>\n",
              "<style scoped>\n",
              "    .dataframe tbody tr th:only-of-type {\n",
              "        vertical-align: middle;\n",
              "    }\n",
              "\n",
              "    .dataframe tbody tr th {\n",
              "        vertical-align: top;\n",
              "    }\n",
              "\n",
              "    .dataframe thead th {\n",
              "        text-align: right;\n",
              "    }\n",
              "</style>\n",
              "<table border=\"1\" class=\"dataframe\">\n",
              "  <thead>\n",
              "    <tr style=\"text-align: right;\">\n",
              "      <th></th>\n",
              "      <th>time_left</th>\n",
              "      <th>ct_score</th>\n",
              "      <th>t_score</th>\n",
              "      <th>map</th>\n",
              "      <th>bomb_planted</th>\n",
              "      <th>ct_health</th>\n",
              "      <th>t_health</th>\n",
              "      <th>ct_armor</th>\n",
              "      <th>t_armor</th>\n",
              "      <th>ct_money</th>\n",
              "      <th>...</th>\n",
              "      <th>t_grenade_flashbang</th>\n",
              "      <th>ct_grenade_smokegrenade</th>\n",
              "      <th>t_grenade_smokegrenade</th>\n",
              "      <th>ct_grenade_incendiarygrenade</th>\n",
              "      <th>t_grenade_incendiarygrenade</th>\n",
              "      <th>ct_grenade_molotovgrenade</th>\n",
              "      <th>t_grenade_molotovgrenade</th>\n",
              "      <th>ct_grenade_decoygrenade</th>\n",
              "      <th>t_grenade_decoygrenade</th>\n",
              "      <th>round_winner</th>\n",
              "    </tr>\n",
              "  </thead>\n",
              "  <tbody>\n",
              "    <tr>\n",
              "      <th>0</th>\n",
              "      <td>175.00</td>\n",
              "      <td>0.0</td>\n",
              "      <td>0.0</td>\n",
              "      <td>1</td>\n",
              "      <td>0</td>\n",
              "      <td>500.0</td>\n",
              "      <td>500.0</td>\n",
              "      <td>0.0</td>\n",
              "      <td>0.0</td>\n",
              "      <td>4000.0</td>\n",
              "      <td>...</td>\n",
              "      <td>0.0</td>\n",
              "      <td>0.0</td>\n",
              "      <td>0.0</td>\n",
              "      <td>0.0</td>\n",
              "      <td>0.0</td>\n",
              "      <td>0.0</td>\n",
              "      <td>0.0</td>\n",
              "      <td>0.0</td>\n",
              "      <td>0.0</td>\n",
              "      <td>0</td>\n",
              "    </tr>\n",
              "    <tr>\n",
              "      <th>1</th>\n",
              "      <td>156.03</td>\n",
              "      <td>0.0</td>\n",
              "      <td>0.0</td>\n",
              "      <td>1</td>\n",
              "      <td>0</td>\n",
              "      <td>500.0</td>\n",
              "      <td>500.0</td>\n",
              "      <td>400.0</td>\n",
              "      <td>300.0</td>\n",
              "      <td>600.0</td>\n",
              "      <td>...</td>\n",
              "      <td>0.0</td>\n",
              "      <td>0.0</td>\n",
              "      <td>2.0</td>\n",
              "      <td>0.0</td>\n",
              "      <td>0.0</td>\n",
              "      <td>0.0</td>\n",
              "      <td>0.0</td>\n",
              "      <td>0.0</td>\n",
              "      <td>0.0</td>\n",
              "      <td>0</td>\n",
              "    </tr>\n",
              "    <tr>\n",
              "      <th>2</th>\n",
              "      <td>96.03</td>\n",
              "      <td>0.0</td>\n",
              "      <td>0.0</td>\n",
              "      <td>1</td>\n",
              "      <td>0</td>\n",
              "      <td>391.0</td>\n",
              "      <td>400.0</td>\n",
              "      <td>294.0</td>\n",
              "      <td>200.0</td>\n",
              "      <td>750.0</td>\n",
              "      <td>...</td>\n",
              "      <td>0.0</td>\n",
              "      <td>0.0</td>\n",
              "      <td>2.0</td>\n",
              "      <td>0.0</td>\n",
              "      <td>0.0</td>\n",
              "      <td>0.0</td>\n",
              "      <td>0.0</td>\n",
              "      <td>0.0</td>\n",
              "      <td>0.0</td>\n",
              "      <td>0</td>\n",
              "    </tr>\n",
              "    <tr>\n",
              "      <th>3</th>\n",
              "      <td>76.03</td>\n",
              "      <td>0.0</td>\n",
              "      <td>0.0</td>\n",
              "      <td>1</td>\n",
              "      <td>0</td>\n",
              "      <td>391.0</td>\n",
              "      <td>400.0</td>\n",
              "      <td>294.0</td>\n",
              "      <td>200.0</td>\n",
              "      <td>750.0</td>\n",
              "      <td>...</td>\n",
              "      <td>0.0</td>\n",
              "      <td>0.0</td>\n",
              "      <td>0.0</td>\n",
              "      <td>0.0</td>\n",
              "      <td>0.0</td>\n",
              "      <td>0.0</td>\n",
              "      <td>0.0</td>\n",
              "      <td>0.0</td>\n",
              "      <td>0.0</td>\n",
              "      <td>0</td>\n",
              "    </tr>\n",
              "    <tr>\n",
              "      <th>4</th>\n",
              "      <td>174.97</td>\n",
              "      <td>1.0</td>\n",
              "      <td>0.0</td>\n",
              "      <td>1</td>\n",
              "      <td>0</td>\n",
              "      <td>500.0</td>\n",
              "      <td>500.0</td>\n",
              "      <td>192.0</td>\n",
              "      <td>0.0</td>\n",
              "      <td>18350.0</td>\n",
              "      <td>...</td>\n",
              "      <td>0.0</td>\n",
              "      <td>0.0</td>\n",
              "      <td>0.0</td>\n",
              "      <td>0.0</td>\n",
              "      <td>0.0</td>\n",
              "      <td>0.0</td>\n",
              "      <td>0.0</td>\n",
              "      <td>0.0</td>\n",
              "      <td>0.0</td>\n",
              "      <td>0</td>\n",
              "    </tr>\n",
              "    <tr>\n",
              "      <th>...</th>\n",
              "      <td>...</td>\n",
              "      <td>...</td>\n",
              "      <td>...</td>\n",
              "      <td>...</td>\n",
              "      <td>...</td>\n",
              "      <td>...</td>\n",
              "      <td>...</td>\n",
              "      <td>...</td>\n",
              "      <td>...</td>\n",
              "      <td>...</td>\n",
              "      <td>...</td>\n",
              "      <td>...</td>\n",
              "      <td>...</td>\n",
              "      <td>...</td>\n",
              "      <td>...</td>\n",
              "      <td>...</td>\n",
              "      <td>...</td>\n",
              "      <td>...</td>\n",
              "      <td>...</td>\n",
              "      <td>...</td>\n",
              "      <td>...</td>\n",
              "    </tr>\n",
              "    <tr>\n",
              "      <th>122405</th>\n",
              "      <td>15.41</td>\n",
              "      <td>11.0</td>\n",
              "      <td>14.0</td>\n",
              "      <td>6</td>\n",
              "      <td>1</td>\n",
              "      <td>200.0</td>\n",
              "      <td>242.0</td>\n",
              "      <td>195.0</td>\n",
              "      <td>359.0</td>\n",
              "      <td>100.0</td>\n",
              "      <td>...</td>\n",
              "      <td>2.0</td>\n",
              "      <td>1.0</td>\n",
              "      <td>1.0</td>\n",
              "      <td>0.0</td>\n",
              "      <td>0.0</td>\n",
              "      <td>0.0</td>\n",
              "      <td>0.0</td>\n",
              "      <td>0.0</td>\n",
              "      <td>0.0</td>\n",
              "      <td>1</td>\n",
              "    </tr>\n",
              "    <tr>\n",
              "      <th>122406</th>\n",
              "      <td>174.93</td>\n",
              "      <td>11.0</td>\n",
              "      <td>15.0</td>\n",
              "      <td>6</td>\n",
              "      <td>0</td>\n",
              "      <td>500.0</td>\n",
              "      <td>500.0</td>\n",
              "      <td>95.0</td>\n",
              "      <td>175.0</td>\n",
              "      <td>11500.0</td>\n",
              "      <td>...</td>\n",
              "      <td>2.0</td>\n",
              "      <td>1.0</td>\n",
              "      <td>0.0</td>\n",
              "      <td>0.0</td>\n",
              "      <td>0.0</td>\n",
              "      <td>0.0</td>\n",
              "      <td>0.0</td>\n",
              "      <td>0.0</td>\n",
              "      <td>0.0</td>\n",
              "      <td>1</td>\n",
              "    </tr>\n",
              "    <tr>\n",
              "      <th>122407</th>\n",
              "      <td>114.93</td>\n",
              "      <td>11.0</td>\n",
              "      <td>15.0</td>\n",
              "      <td>6</td>\n",
              "      <td>0</td>\n",
              "      <td>500.0</td>\n",
              "      <td>500.0</td>\n",
              "      <td>495.0</td>\n",
              "      <td>475.0</td>\n",
              "      <td>1200.0</td>\n",
              "      <td>...</td>\n",
              "      <td>4.0</td>\n",
              "      <td>3.0</td>\n",
              "      <td>5.0</td>\n",
              "      <td>1.0</td>\n",
              "      <td>0.0</td>\n",
              "      <td>0.0</td>\n",
              "      <td>5.0</td>\n",
              "      <td>0.0</td>\n",
              "      <td>0.0</td>\n",
              "      <td>1</td>\n",
              "    </tr>\n",
              "    <tr>\n",
              "      <th>122408</th>\n",
              "      <td>94.93</td>\n",
              "      <td>11.0</td>\n",
              "      <td>15.0</td>\n",
              "      <td>6</td>\n",
              "      <td>0</td>\n",
              "      <td>500.0</td>\n",
              "      <td>500.0</td>\n",
              "      <td>495.0</td>\n",
              "      <td>475.0</td>\n",
              "      <td>1200.0</td>\n",
              "      <td>...</td>\n",
              "      <td>5.0</td>\n",
              "      <td>0.0</td>\n",
              "      <td>3.0</td>\n",
              "      <td>0.0</td>\n",
              "      <td>0.0</td>\n",
              "      <td>0.0</td>\n",
              "      <td>4.0</td>\n",
              "      <td>0.0</td>\n",
              "      <td>0.0</td>\n",
              "      <td>1</td>\n",
              "    </tr>\n",
              "    <tr>\n",
              "      <th>122409</th>\n",
              "      <td>74.93</td>\n",
              "      <td>11.0</td>\n",
              "      <td>15.0</td>\n",
              "      <td>6</td>\n",
              "      <td>0</td>\n",
              "      <td>375.0</td>\n",
              "      <td>479.0</td>\n",
              "      <td>395.0</td>\n",
              "      <td>466.0</td>\n",
              "      <td>1100.0</td>\n",
              "      <td>...</td>\n",
              "      <td>3.0</td>\n",
              "      <td>0.0</td>\n",
              "      <td>2.0</td>\n",
              "      <td>0.0</td>\n",
              "      <td>0.0</td>\n",
              "      <td>0.0</td>\n",
              "      <td>3.0</td>\n",
              "      <td>0.0</td>\n",
              "      <td>0.0</td>\n",
              "      <td>1</td>\n",
              "    </tr>\n",
              "  </tbody>\n",
              "</table>\n",
              "<p>117448 rows × 97 columns</p>\n",
              "</div>"
            ],
            "text/plain": [
              "        time_left  ct_score  t_score  map  bomb_planted  ct_health  t_health  \\\n",
              "0          175.00       0.0      0.0    1             0      500.0     500.0   \n",
              "1          156.03       0.0      0.0    1             0      500.0     500.0   \n",
              "2           96.03       0.0      0.0    1             0      391.0     400.0   \n",
              "3           76.03       0.0      0.0    1             0      391.0     400.0   \n",
              "4          174.97       1.0      0.0    1             0      500.0     500.0   \n",
              "...           ...       ...      ...  ...           ...        ...       ...   \n",
              "122405      15.41      11.0     14.0    6             1      200.0     242.0   \n",
              "122406     174.93      11.0     15.0    6             0      500.0     500.0   \n",
              "122407     114.93      11.0     15.0    6             0      500.0     500.0   \n",
              "122408      94.93      11.0     15.0    6             0      500.0     500.0   \n",
              "122409      74.93      11.0     15.0    6             0      375.0     479.0   \n",
              "\n",
              "        ct_armor  t_armor  ct_money  ...  t_grenade_flashbang  \\\n",
              "0            0.0      0.0    4000.0  ...                  0.0   \n",
              "1          400.0    300.0     600.0  ...                  0.0   \n",
              "2          294.0    200.0     750.0  ...                  0.0   \n",
              "3          294.0    200.0     750.0  ...                  0.0   \n",
              "4          192.0      0.0   18350.0  ...                  0.0   \n",
              "...          ...      ...       ...  ...                  ...   \n",
              "122405     195.0    359.0     100.0  ...                  2.0   \n",
              "122406      95.0    175.0   11500.0  ...                  2.0   \n",
              "122407     495.0    475.0    1200.0  ...                  4.0   \n",
              "122408     495.0    475.0    1200.0  ...                  5.0   \n",
              "122409     395.0    466.0    1100.0  ...                  3.0   \n",
              "\n",
              "        ct_grenade_smokegrenade  t_grenade_smokegrenade  \\\n",
              "0                           0.0                     0.0   \n",
              "1                           0.0                     2.0   \n",
              "2                           0.0                     2.0   \n",
              "3                           0.0                     0.0   \n",
              "4                           0.0                     0.0   \n",
              "...                         ...                     ...   \n",
              "122405                      1.0                     1.0   \n",
              "122406                      1.0                     0.0   \n",
              "122407                      3.0                     5.0   \n",
              "122408                      0.0                     3.0   \n",
              "122409                      0.0                     2.0   \n",
              "\n",
              "        ct_grenade_incendiarygrenade  t_grenade_incendiarygrenade  \\\n",
              "0                                0.0                          0.0   \n",
              "1                                0.0                          0.0   \n",
              "2                                0.0                          0.0   \n",
              "3                                0.0                          0.0   \n",
              "4                                0.0                          0.0   \n",
              "...                              ...                          ...   \n",
              "122405                           0.0                          0.0   \n",
              "122406                           0.0                          0.0   \n",
              "122407                           1.0                          0.0   \n",
              "122408                           0.0                          0.0   \n",
              "122409                           0.0                          0.0   \n",
              "\n",
              "        ct_grenade_molotovgrenade  t_grenade_molotovgrenade  \\\n",
              "0                             0.0                       0.0   \n",
              "1                             0.0                       0.0   \n",
              "2                             0.0                       0.0   \n",
              "3                             0.0                       0.0   \n",
              "4                             0.0                       0.0   \n",
              "...                           ...                       ...   \n",
              "122405                        0.0                       0.0   \n",
              "122406                        0.0                       0.0   \n",
              "122407                        0.0                       5.0   \n",
              "122408                        0.0                       4.0   \n",
              "122409                        0.0                       3.0   \n",
              "\n",
              "        ct_grenade_decoygrenade  t_grenade_decoygrenade  round_winner  \n",
              "0                           0.0                     0.0             0  \n",
              "1                           0.0                     0.0             0  \n",
              "2                           0.0                     0.0             0  \n",
              "3                           0.0                     0.0             0  \n",
              "4                           0.0                     0.0             0  \n",
              "...                         ...                     ...           ...  \n",
              "122405                      0.0                     0.0             1  \n",
              "122406                      0.0                     0.0             1  \n",
              "122407                      0.0                     0.0             1  \n",
              "122408                      0.0                     0.0             1  \n",
              "122409                      0.0                     0.0             1  \n",
              "\n",
              "[117448 rows x 97 columns]"
            ]
          },
          "execution_count": 31,
          "metadata": {},
          "output_type": "execute_result"
        }
      ],
      "source": [
        "df"
      ]
    },
    {
      "cell_type": "code",
      "execution_count": 34,
      "metadata": {
        "id": "DVRZY06IQy6o"
      },
      "outputs": [],
      "source": [
        "# spliting the data\n",
        "x=df.iloc[:,:-1]  # taking all columns except the last one as features \n",
        "y=df[\"round_winner\"]  # taking the last column as target variable"
      ]
    },
    {
      "cell_type": "code",
      "execution_count": 37,
      "metadata": {
        "colab": {
          "base_uri": "https://localhost:8080/",
          "height": 443
        },
        "id": "EVyZuwGsRxgQ",
        "outputId": "eb6174a2-fba7-4737-92e1-4b500f10b00f"
      },
      "outputs": [
        {
          "data": {
            "text/plain": [
              "((117448, 96), (117448,))"
            ]
          },
          "execution_count": 37,
          "metadata": {},
          "output_type": "execute_result"
        }
      ],
      "source": [
        "# Checking the shape of x and y\n",
        "x.shape,y.shape   "
      ]
    },
    {
      "cell_type": "code",
      "execution_count": null,
      "metadata": {
        "id": "0e8EEJoyRGfc"
      },
      "outputs": [
        {
          "data": {
            "text/plain": [
              "((93958, 96), (23490, 96), (93958,), (23490,))"
            ]
          },
          "execution_count": 39,
          "metadata": {},
          "output_type": "execute_result"
        }
      ],
      "source": [
        "from sklearn.model_selection import train_test_split\n",
        "\n",
        "x_train,x_test,y_train,y_test=train_test_split(x,y,test_size=0.2,random_state=34) # Splitting the data into training and testing sets\n",
        "\n",
        "x_train.shape,x_test.shape,y_train.shape,y_test.shape  # Checking the shape of training and testing sets"
      ]
    },
    {
      "cell_type": "markdown",
      "metadata": {
        "id": "RfriAoGcRj5X"
      },
      "source": [
        "# Building model without LDA  \n",
        "                 without Linear Discriminant Analysis"
      ]
    },
    {
      "cell_type": "code",
      "execution_count": 44,
      "metadata": {
        "colab": {
          "base_uri": "https://localhost:8080/"
        },
        "id": "VJjFu-QTRl8Q",
        "outputId": "956dc9fe-118e-436d-9482-cadff2c51eac"
      },
      "outputs": [
        {
          "name": "stdout",
          "output_type": "stream",
          "text": [
            "Accuracy of Logistic Regression model: 74.24%\n",
            "Confusion Matrix:\n",
            " [[8191 3309]\n",
            " [2743 9247]]\n"
          ]
        },
        {
          "name": "stderr",
          "output_type": "stream",
          "text": [
            "c:\\Users\\upesh\\anaconda3\\Lib\\site-packages\\sklearn\\linear_model\\_logistic.py:469: ConvergenceWarning: lbfgs failed to converge (status=1):\n",
            "STOP: TOTAL NO. of ITERATIONS REACHED LIMIT.\n",
            "\n",
            "Increase the number of iterations (max_iter) or scale the data as shown in:\n",
            "    https://scikit-learn.org/stable/modules/preprocessing.html\n",
            "Please also refer to the documentation for alternative solver options:\n",
            "    https://scikit-learn.org/stable/modules/linear_model.html#logistic-regression\n",
            "  n_iter_i = _check_optimize_result(\n"
          ]
        }
      ],
      "source": [
        "# built a Logistic Regression model\n",
        "\n",
        "from sklearn.linear_model import LogisticRegression\n",
        "from sklearn.metrics import *\n",
        "\n",
        "log_model=LogisticRegression()  # Creating an instance of the Logistic Regression model\n",
        "log_model.fit(x_train,y_train)  # Fitting the model on the training data\n",
        "\n",
        "log_pred=log_model.predict(x_test)\n",
        "log_accuracy =  accuracy_score(y_test,log_pred)        \n",
        "\n",
        "# printing accuracy of the model two values after decimal point\n",
        "print(\"Accuracy of Logistic Regression model: {:.2f}%\".format(log_accuracy * 100))  # Printing the accuracy of the model\n",
        "\n",
        "print(\"Confusion Matrix:\\n\", confusion_matrix(y_test, log_pred))  # Printing the confusion matrix   "
      ]
    },
    {
      "cell_type": "markdown",
      "metadata": {
        "id": "8ZVSJhV32cSZ"
      },
      "source": [
        "# Building model with LDA\n",
        "\n",
        "**Let's proceed with LDA for feature selection as we are having only 2 classes in the target variables**\n",
        "\n",
        "LDA tries to reduce the number of features by picking the ones that are most useful for distinguishing between the groups.\n",
        "\n",
        "For example, if you have 10 features, LDA will tell you that only 3 of them are really good at separating the groups."
      ]
    },
    {
      "cell_type": "markdown",
      "metadata": {
        "id": "OxDJ3DVVQV3u"
      },
      "source": [
        "**Standardize the data**\n",
        "\n",
        "**LDA is sensitive to feature scales**: LDA relies on maximizing the separation between classes by finding the directions where classes are most distinguishable.\n",
        "\n",
        "If one feature has a much larger range (e.g., salary in thousands vs. age in years), it can dominate the model and distort the results.\n",
        "\n",
        "**Scaling the features ensures that all features contribute equally to the analysis by bringing them onto the same scale.**"
      ]
    },
    {
      "cell_type": "code",
      "execution_count": 47,
      "metadata": {
        "id": "ztk6SIlgQOxT"
      },
      "outputs": [],
      "source": [
        "# data normalization and scaling\n",
        "from sklearn.preprocessing import StandardScaler "
      ]
    },
    {
      "cell_type": "code",
      "execution_count": 48,
      "metadata": {
        "id": "euhy-pbuQdE1"
      },
      "outputs": [],
      "source": [
        "sc=StandardScaler() "
      ]
    },
    {
      "cell_type": "code",
      "execution_count": null,
      "metadata": {
        "id": "Ft8eFcNRQmqL"
      },
      "outputs": [],
      "source": [
        "# scaling the features \n",
        "x_train = sc.fit_transform(x_train)\n",
        "x_test = sc.transform(x_test)"
      ]
    },
    {
      "cell_type": "markdown",
      "metadata": {
        "id": "LvG5_0TqScHu"
      },
      "source": [
        "**Why Fit on Training Data Only?**\n",
        "\n",
        "**Avoid data leakage:** We have to  fit the scaler (i.e., sc.fit_transform()) only on the training data because the test data should remain unseen during training. Fitting the scaler on both training and test data would allow information from the test set to influence the scaling, causing data leakage, which leads to over-optimistic results and may harm generalization."
      ]
    },
    {
      "cell_type": "code",
      "execution_count": 62,
      "metadata": {
        "colab": {
          "base_uri": "https://localhost:8080/",
          "height": 443
        },
        "id": "r_hvgcMcR_t5",
        "outputId": "24c4c3ea-223f-4fca-ecbf-a040cb575d12"
      },
      "outputs": [
        {
          "data": {
            "text/html": [
              "<div>\n",
              "<style scoped>\n",
              "    .dataframe tbody tr th:only-of-type {\n",
              "        vertical-align: middle;\n",
              "    }\n",
              "\n",
              "    .dataframe tbody tr th {\n",
              "        vertical-align: top;\n",
              "    }\n",
              "\n",
              "    .dataframe thead th {\n",
              "        text-align: right;\n",
              "    }\n",
              "</style>\n",
              "<table border=\"1\" class=\"dataframe\">\n",
              "  <thead>\n",
              "    <tr style=\"text-align: right;\">\n",
              "      <th></th>\n",
              "      <th>0</th>\n",
              "      <th>1</th>\n",
              "      <th>2</th>\n",
              "      <th>3</th>\n",
              "      <th>4</th>\n",
              "      <th>5</th>\n",
              "      <th>6</th>\n",
              "      <th>7</th>\n",
              "      <th>8</th>\n",
              "      <th>9</th>\n",
              "      <th>...</th>\n",
              "      <th>86</th>\n",
              "      <th>87</th>\n",
              "      <th>88</th>\n",
              "      <th>89</th>\n",
              "      <th>90</th>\n",
              "      <th>91</th>\n",
              "      <th>92</th>\n",
              "      <th>93</th>\n",
              "      <th>94</th>\n",
              "      <th>95</th>\n",
              "    </tr>\n",
              "  </thead>\n",
              "  <tbody>\n",
              "    <tr>\n",
              "      <th>0</th>\n",
              "      <td>1.416866</td>\n",
              "      <td>0.048673</td>\n",
              "      <td>-1.408598</td>\n",
              "      <td>-0.271129</td>\n",
              "      <td>-0.364083</td>\n",
              "      <td>0.684387</td>\n",
              "      <td>0.717496</td>\n",
              "      <td>-0.198492</td>\n",
              "      <td>-1.738252</td>\n",
              "      <td>3.166033</td>\n",
              "      <td>...</td>\n",
              "      <td>-1.076611</td>\n",
              "      <td>-1.049887</td>\n",
              "      <td>-0.909266</td>\n",
              "      <td>-0.909722</td>\n",
              "      <td>-0.700269</td>\n",
              "      <td>-0.140069</td>\n",
              "      <td>-0.213987</td>\n",
              "      <td>-0.828037</td>\n",
              "      <td>-0.162825</td>\n",
              "      <td>-0.153824</td>\n",
              "    </tr>\n",
              "    <tr>\n",
              "      <th>1</th>\n",
              "      <td>0.382271</td>\n",
              "      <td>-0.990654</td>\n",
              "      <td>-0.995861</td>\n",
              "      <td>-0.788591</td>\n",
              "      <td>-0.364083</td>\n",
              "      <td>0.684387</td>\n",
              "      <td>0.717496</td>\n",
              "      <td>0.483714</td>\n",
              "      <td>1.025212</td>\n",
              "      <td>-0.856265</td>\n",
              "      <td>...</td>\n",
              "      <td>-0.510883</td>\n",
              "      <td>1.168070</td>\n",
              "      <td>-0.333670</td>\n",
              "      <td>1.814845</td>\n",
              "      <td>-0.700269</td>\n",
              "      <td>-0.140069</td>\n",
              "      <td>-0.213987</td>\n",
              "      <td>2.164182</td>\n",
              "      <td>-0.162825</td>\n",
              "      <td>-0.153824</td>\n",
              "    </tr>\n",
              "    <tr>\n",
              "      <th>2</th>\n",
              "      <td>-1.499698</td>\n",
              "      <td>0.880135</td>\n",
              "      <td>1.067823</td>\n",
              "      <td>0.246334</td>\n",
              "      <td>2.746628</td>\n",
              "      <td>-2.303445</td>\n",
              "      <td>-0.865139</td>\n",
              "      <td>-1.280613</td>\n",
              "      <td>-0.600693</td>\n",
              "      <td>-0.865095</td>\n",
              "      <td>...</td>\n",
              "      <td>-1.076611</td>\n",
              "      <td>-1.049887</td>\n",
              "      <td>-0.909266</td>\n",
              "      <td>-0.364809</td>\n",
              "      <td>-0.700269</td>\n",
              "      <td>-0.140069</td>\n",
              "      <td>-0.213987</td>\n",
              "      <td>-0.828037</td>\n",
              "      <td>-0.162825</td>\n",
              "      <td>-0.153824</td>\n",
              "    </tr>\n",
              "    <tr>\n",
              "      <th>3</th>\n",
              "      <td>0.288474</td>\n",
              "      <td>-0.990654</td>\n",
              "      <td>0.242350</td>\n",
              "      <td>-0.271129</td>\n",
              "      <td>-0.364083</td>\n",
              "      <td>0.684387</td>\n",
              "      <td>0.717496</td>\n",
              "      <td>1.071823</td>\n",
              "      <td>1.059683</td>\n",
              "      <td>-0.622256</td>\n",
              "      <td>...</td>\n",
              "      <td>1.752032</td>\n",
              "      <td>1.722559</td>\n",
              "      <td>0.817522</td>\n",
              "      <td>0.725018</td>\n",
              "      <td>2.723104</td>\n",
              "      <td>-0.140069</td>\n",
              "      <td>-0.213987</td>\n",
              "      <td>2.164182</td>\n",
              "      <td>-0.162825</td>\n",
              "      <td>-0.153824</td>\n",
              "    </tr>\n",
              "    <tr>\n",
              "      <th>4</th>\n",
              "      <td>1.510288</td>\n",
              "      <td>2.335194</td>\n",
              "      <td>1.893297</td>\n",
              "      <td>1.798723</td>\n",
              "      <td>-0.364083</td>\n",
              "      <td>0.684387</td>\n",
              "      <td>0.717496</td>\n",
              "      <td>-0.692504</td>\n",
              "      <td>-1.738252</td>\n",
              "      <td>4.945380</td>\n",
              "      <td>...</td>\n",
              "      <td>0.054846</td>\n",
              "      <td>-1.049887</td>\n",
              "      <td>0.241926</td>\n",
              "      <td>-0.909722</td>\n",
              "      <td>0.669080</td>\n",
              "      <td>-0.140069</td>\n",
              "      <td>-0.213987</td>\n",
              "      <td>-0.828037</td>\n",
              "      <td>-0.162825</td>\n",
              "      <td>-0.153824</td>\n",
              "    </tr>\n",
              "  </tbody>\n",
              "</table>\n",
              "<p>5 rows × 96 columns</p>\n",
              "</div>"
            ],
            "text/plain": [
              "         0         1         2         3         4         5         6   \\\n",
              "0  1.416866  0.048673 -1.408598 -0.271129 -0.364083  0.684387  0.717496   \n",
              "1  0.382271 -0.990654 -0.995861 -0.788591 -0.364083  0.684387  0.717496   \n",
              "2 -1.499698  0.880135  1.067823  0.246334  2.746628 -2.303445 -0.865139   \n",
              "3  0.288474 -0.990654  0.242350 -0.271129 -0.364083  0.684387  0.717496   \n",
              "4  1.510288  2.335194  1.893297  1.798723 -0.364083  0.684387  0.717496   \n",
              "\n",
              "         7         8         9   ...        86        87        88        89  \\\n",
              "0 -0.198492 -1.738252  3.166033  ... -1.076611 -1.049887 -0.909266 -0.909722   \n",
              "1  0.483714  1.025212 -0.856265  ... -0.510883  1.168070 -0.333670  1.814845   \n",
              "2 -1.280613 -0.600693 -0.865095  ... -1.076611 -1.049887 -0.909266 -0.364809   \n",
              "3  1.071823  1.059683 -0.622256  ...  1.752032  1.722559  0.817522  0.725018   \n",
              "4 -0.692504 -1.738252  4.945380  ...  0.054846 -1.049887  0.241926 -0.909722   \n",
              "\n",
              "         90        91        92        93        94        95  \n",
              "0 -0.700269 -0.140069 -0.213987 -0.828037 -0.162825 -0.153824  \n",
              "1 -0.700269 -0.140069 -0.213987  2.164182 -0.162825 -0.153824  \n",
              "2 -0.700269 -0.140069 -0.213987 -0.828037 -0.162825 -0.153824  \n",
              "3  2.723104 -0.140069 -0.213987  2.164182 -0.162825 -0.153824  \n",
              "4  0.669080 -0.140069 -0.213987 -0.828037 -0.162825 -0.153824  \n",
              "\n",
              "[5 rows x 96 columns]"
            ]
          },
          "execution_count": 62,
          "metadata": {},
          "output_type": "execute_result"
        }
      ],
      "source": [
        "newdf=pd.DataFrame(x_train)\n",
        "newdf.head()    # this is the scaled dataframe of x_train"
      ]
    },
    {
      "cell_type": "code",
      "execution_count": 63,
      "metadata": {},
      "outputs": [
        {
          "name": "stdout",
          "output_type": "stream",
          "text": [
            "(93958, 96)\n"
          ]
        }
      ],
      "source": [
        "print(newdf.shape)  # Checking the shape of the scaled dataframe"
      ]
    },
    {
      "cell_type": "code",
      "execution_count": 67,
      "metadata": {
        "id": "yv4d_YcxSUk2"
      },
      "outputs": [
        {
          "name": "stdout",
          "output_type": "stream",
          "text": [
            "Accuracy of LDA model: 75.37%\n",
            "Confusion Matrix:\n",
            " [[8871 2629]\n",
            " [3156 8834]]\n"
          ]
        }
      ],
      "source": [
        "# LDA implementation\n",
        "from sklearn.discriminant_analysis import LinearDiscriminantAnalysis\n",
        "\n",
        "lda=LinearDiscriminantAnalysis()  \n",
        "\n",
        "lda.fit(x_train,y_train)  # Fitting the LDA model on the training data\n",
        "lda_pred=lda.predict(x_test)  # Making predictions on the test data\n",
        "lda_accuracy = accuracy_score(y_test, lda_pred)  # Calculating the accuracy of the LDA model\n",
        "print(\"Accuracy of LDA model: {:.2f}%\".format(lda_accuracy * 100))  # Printing the accuracy of the LDA model\n",
        "print(\"Confusion Matrix:\\n\", confusion_matrix(y_test, lda_pred))  # Printing the confusion matrix for LDA model"
      ]
    },
    {
      "cell_type": "code",
      "execution_count": 66,
      "metadata": {
        "colab": {
          "base_uri": "https://localhost:8080/"
        },
        "id": "9b7qgaJZSz3a",
        "outputId": "c764a097-87ef-4d74-afb7-aba1e7a13925"
      },
      "outputs": [
        {
          "data": {
            "text/plain": [
              "array([[-0.81926606],\n",
              "       [-0.20646063],\n",
              "       [-1.2027105 ],\n",
              "       ...,\n",
              "       [-3.11199387],\n",
              "       [-0.58398431],\n",
              "       [ 3.15241551]])"
            ]
          },
          "execution_count": 66,
          "metadata": {},
          "output_type": "execute_result"
        }
      ],
      "source": [
        "# When you run lda.transform(x_test), the LDA model transforms the test data (x_test) into a new space with reduced dimensions.\n",
        "lda.transform(x_test)"
      ]
    },
    {
      "cell_type": "markdown",
      "metadata": {
        "id": "bjFbqe7Q3hJN"
      },
      "source": [
        "Each feature in your dataset contributes differently to separating the classes. **lda.coef_ provides the importance of each feature for each class**.\n",
        "\n",
        "These coefficients represent the direction and magnitude by which each feature helps in differentiating between the classes."
      ]
    },
    {
      "cell_type": "code",
      "execution_count": 69,
      "metadata": {
        "colab": {
          "base_uri": "https://localhost:8080/"
        },
        "id": "_CETJbEsS474",
        "outputId": "26cea642-abc0-4ba7-fec3-ac45aa0e610f"
      },
      "outputs": [],
      "source": [
        "# lda.coef_"
      ]
    },
    {
      "cell_type": "markdown",
      "metadata": {
        "id": "CtBE3vNl34NZ"
      },
      "source": [
        "**lda.coef_:** This retrieves the coefficients (or weights) of the features from the trained Linear Discriminant Analysis (LDA) model. These coefficients indicate the importance of each feature in distinguishing between classes.\n",
        "\n",
        "**np.abs(lda.coef_):** The absolute value of the coefficients is taken. This removes any negative signs, focusing on the magnitude of the feature importance rather than its direction (positive or negative influence).\n",
        "\n",
        "**np.exp(...):** The exponential function (e^x, where e is Euler's number, approximately 2.718) is applied to each of these absolute values. This operation transforms the coefficients by exponentially scaling them."
      ]
    },
    {
      "cell_type": "code",
      "execution_count": 71,
      "metadata": {
        "colab": {
          "base_uri": "https://localhost:8080/"
        },
        "id": "qfUZnsLCTEOv",
        "outputId": "ff05ea6d-630f-4bbc-d7db-a6e1c60567ca"
      },
      "outputs": [
        {
          "data": {
            "text/plain": [
              "array([[1.15119233, 1.01651281, 1.01667682, 1.08807708, 1.27869629,\n",
              "        1.53078213, 1.38431579, 1.83133437, 1.90171433, 1.23873219,\n",
              "        1.1773744 , 1.05122996, 1.07395893, 1.03562041, 1.24993761,\n",
              "        1.46415333, 1.21205193, 1.86883791, 1.23675781, 1.03857494,\n",
              "        1.36613269, 1.27757365, 1.        , 1.00156911, 1.01398091,\n",
              "        1.00027079, 1.00820329, 1.01467692, 1.15236536, 1.05020035,\n",
              "        1.        , 1.02118883, 1.05457512, 1.14768983, 1.0194707 ,\n",
              "        1.18685087, 1.01156356, 1.        , 1.09487876, 1.05112203,\n",
              "        1.59602934, 1.1198688 , 1.01416355, 1.11506636, 1.01852871,\n",
              "        1.00423276, 1.01041978, 1.03752164, 1.00769272, 1.01115026,\n",
              "        1.1199764 , 1.04053825, 1.        , 1.        , 1.01279379,\n",
              "        1.02543605, 1.02617555, 1.01722542, 1.        , 1.00644933,\n",
              "        1.        , 1.01443602, 1.00836656, 1.        , 1.23227922,\n",
              "        1.76503401, 1.08609438, 1.01827171, 1.04401669, 1.09850959,\n",
              "        1.02060003, 1.00232509, 1.02729629, 1.01504326, 1.034276  ,\n",
              "        1.03758948, 1.13228786, 1.03647024, 1.05793665, 1.01966673,\n",
              "        1.05855917, 1.00734532, 1.00447916, 1.00196463, 1.00997815,\n",
              "        1.00256282, 1.01729903, 1.21229646, 1.08457191, 1.25905831,\n",
              "        1.09946103, 1.0144247 , 1.01111945, 1.1132599 , 1.0001342 ,\n",
              "        1.01837375]])"
            ]
          },
          "execution_count": 71,
          "metadata": {},
          "output_type": "execute_result"
        }
      ],
      "source": [
        "lda_coefficients=np.exp(np.abs(lda.coef_))\n",
        "lda_coefficients"
      ]
    },
    {
      "cell_type": "markdown",
      "metadata": {
        "id": "q4t2Q51w4KXq"
      },
      "source": [
        "**Why flatten the array?**\n",
        "\n",
        "**Simplify the Structure:** After calculating the coefficients, you might want to have all the values in a single list instead of a multi-dimensional structure. This makes it easier to access or perform operations on the coefficients, such as plotting or summarizing them.\n"
      ]
    },
    {
      "cell_type": "code",
      "execution_count": 72,
      "metadata": {
        "id": "Du5C_31rTbFr"
      },
      "outputs": [],
      "source": [
        "lda_coefficients=lda_coefficients.flatten()"
      ]
    },
    {
      "cell_type": "code",
      "execution_count": 73,
      "metadata": {
        "colab": {
          "base_uri": "https://localhost:8080/"
        },
        "id": "JkLUPxtQUIsn",
        "outputId": "eed970a0-ed76-481d-f0c3-7600ba9656d6"
      },
      "outputs": [
        {
          "data": {
            "text/plain": [
              "array([1.15119233, 1.01651281, 1.01667682, 1.08807708, 1.27869629,\n",
              "       1.53078213, 1.38431579, 1.83133437, 1.90171433, 1.23873219,\n",
              "       1.1773744 , 1.05122996, 1.07395893, 1.03562041, 1.24993761,\n",
              "       1.46415333, 1.21205193, 1.86883791, 1.23675781, 1.03857494,\n",
              "       1.36613269, 1.27757365, 1.        , 1.00156911, 1.01398091,\n",
              "       1.00027079, 1.00820329, 1.01467692, 1.15236536, 1.05020035,\n",
              "       1.        , 1.02118883, 1.05457512, 1.14768983, 1.0194707 ,\n",
              "       1.18685087, 1.01156356, 1.        , 1.09487876, 1.05112203,\n",
              "       1.59602934, 1.1198688 , 1.01416355, 1.11506636, 1.01852871,\n",
              "       1.00423276, 1.01041978, 1.03752164, 1.00769272, 1.01115026,\n",
              "       1.1199764 , 1.04053825, 1.        , 1.        , 1.01279379,\n",
              "       1.02543605, 1.02617555, 1.01722542, 1.        , 1.00644933,\n",
              "       1.        , 1.01443602, 1.00836656, 1.        , 1.23227922,\n",
              "       1.76503401, 1.08609438, 1.01827171, 1.04401669, 1.09850959,\n",
              "       1.02060003, 1.00232509, 1.02729629, 1.01504326, 1.034276  ,\n",
              "       1.03758948, 1.13228786, 1.03647024, 1.05793665, 1.01966673,\n",
              "       1.05855917, 1.00734532, 1.00447916, 1.00196463, 1.00997815,\n",
              "       1.00256282, 1.01729903, 1.21229646, 1.08457191, 1.25905831,\n",
              "       1.09946103, 1.0144247 , 1.01111945, 1.1132599 , 1.0001342 ,\n",
              "       1.01837375])"
            ]
          },
          "execution_count": 73,
          "metadata": {},
          "output_type": "execute_result"
        }
      ],
      "source": [
        "lda_coefficients"
      ]
    },
    {
      "cell_type": "code",
      "execution_count": 74,
      "metadata": {
        "colab": {
          "base_uri": "https://localhost:8080/"
        },
        "id": "bwEmIfOwUKMT",
        "outputId": "2bf079d8-b241-4787-df66-a43f3ffe85b0"
      },
      "outputs": [
        {
          "data": {
            "text/plain": [
              "Index(['time_left', 'ct_score', 't_score', 'map', 'bomb_planted', 'ct_health',\n",
              "       't_health', 'ct_armor', 't_armor', 'ct_money', 't_money', 'ct_helmets',\n",
              "       't_helmets', 'ct_defuse_kits', 'ct_players_alive', 't_players_alive',\n",
              "       'ct_weapon_ak47', 't_weapon_ak47', 'ct_weapon_aug', 't_weapon_aug',\n",
              "       'ct_weapon_awp', 't_weapon_awp', 'ct_weapon_bizon', 't_weapon_bizon',\n",
              "       'ct_weapon_cz75auto', 't_weapon_cz75auto', 'ct_weapon_elite',\n",
              "       't_weapon_elite', 'ct_weapon_famas', 't_weapon_famas',\n",
              "       'ct_weapon_g3sg1', 't_weapon_g3sg1', 'ct_weapon_galilar',\n",
              "       't_weapon_galilar', 'ct_weapon_glock', 't_weapon_glock',\n",
              "       'ct_weapon_m249', 't_weapon_m249', 'ct_weapon_m4a1s', 't_weapon_m4a1s',\n",
              "       'ct_weapon_m4a4', 't_weapon_m4a4', 'ct_weapon_mac10', 't_weapon_mac10',\n",
              "       'ct_weapon_mag7', 't_weapon_mag7', 'ct_weapon_mp5sd', 't_weapon_mp5sd',\n",
              "       'ct_weapon_mp7', 't_weapon_mp7', 'ct_weapon_mp9', 't_weapon_mp9',\n",
              "       'ct_weapon_negev', 't_weapon_negev', 'ct_weapon_nova', 't_weapon_nova',\n",
              "       'ct_weapon_p90', 't_weapon_p90', 'ct_weapon_r8revolver',\n",
              "       't_weapon_r8revolver', 'ct_weapon_sawedoff', 't_weapon_sawedoff',\n",
              "       'ct_weapon_scar20', 't_weapon_scar20', 'ct_weapon_sg553',\n",
              "       't_weapon_sg553', 'ct_weapon_ssg08', 't_weapon_ssg08',\n",
              "       'ct_weapon_ump45', 't_weapon_ump45', 'ct_weapon_xm1014',\n",
              "       't_weapon_xm1014', 'ct_weapon_deagle', 't_weapon_deagle',\n",
              "       'ct_weapon_fiveseven', 't_weapon_fiveseven', 'ct_weapon_usps',\n",
              "       't_weapon_usps', 'ct_weapon_p250', 't_weapon_p250', 'ct_weapon_p2000',\n",
              "       't_weapon_p2000', 'ct_weapon_tec9', 't_weapon_tec9',\n",
              "       'ct_grenade_hegrenade', 't_grenade_hegrenade', 'ct_grenade_flashbang',\n",
              "       't_grenade_flashbang', 'ct_grenade_smokegrenade',\n",
              "       't_grenade_smokegrenade', 'ct_grenade_incendiarygrenade',\n",
              "       't_grenade_incendiarygrenade', 'ct_grenade_molotovgrenade',\n",
              "       't_grenade_molotovgrenade', 'ct_grenade_decoygrenade',\n",
              "       't_grenade_decoygrenade'],\n",
              "      dtype='object')"
            ]
          },
          "execution_count": 74,
          "metadata": {},
          "output_type": "execute_result"
        }
      ],
      "source": [
        "feature_names=x.columns\n",
        "feature_names"
      ]
    },
    {
      "cell_type": "code",
      "execution_count": null,
      "metadata": {
        "colab": {
          "base_uri": "https://localhost:8080/",
          "height": 719
        },
        "id": "GOuJe6xLVDkH",
        "outputId": "054d136d-6eea-4840-bc83-7ad7f0e2334d"
      },
      "outputs": [
        {
          "data": {
            "image/png": "[encoded data removed]",
            "text/plain": [
              "<Figure size 2000x1000 with 1 Axes>"
            ]
          },
          "metadata": {},
          "output_type": "display_data"
        }
      ],
      "source": [
        "# Plotting the coefficients \n",
        "plt.figure(figsize=(20,10))\n",
        "plt.bar(feature_names,lda_coefficients)\n",
        "plt.xticks(rotation=90)\n",
        "plt.xlabel(\"Features\")\n",
        "plt.ylabel(\"Score\")\n",
        "plt.show()"
      ]
    },
    {
      "cell_type": "code",
      "execution_count": null,
      "metadata": {
        "id": "gKYrgIMvVPcX"
      },
      "outputs": [],
      "source": [
        "# Created a df for storing feature name and feature scores\n",
        "df_feature_score = pd.DataFrame({\"Feature_names\":feature_names,\"feature_scores\":lda_coefficients})"
      ]
    },
    {
      "cell_type": "code",
      "execution_count": 77,
      "metadata": {
        "colab": {
          "base_uri": "https://localhost:8080/",
          "height": 423
        },
        "id": "UMLcjPdUWnDN",
        "outputId": "cc7e414c-db36-4ea0-bcdf-85b7ab5dd319"
      },
      "outputs": [
        {
          "data": {
            "text/html": [
              "<div>\n",
              "<style scoped>\n",
              "    .dataframe tbody tr th:only-of-type {\n",
              "        vertical-align: middle;\n",
              "    }\n",
              "\n",
              "    .dataframe tbody tr th {\n",
              "        vertical-align: top;\n",
              "    }\n",
              "\n",
              "    .dataframe thead th {\n",
              "        text-align: right;\n",
              "    }\n",
              "</style>\n",
              "<table border=\"1\" class=\"dataframe\">\n",
              "  <thead>\n",
              "    <tr style=\"text-align: right;\">\n",
              "      <th></th>\n",
              "      <th>Feature_names</th>\n",
              "      <th>feature_scores</th>\n",
              "    </tr>\n",
              "  </thead>\n",
              "  <tbody>\n",
              "    <tr>\n",
              "      <th>0</th>\n",
              "      <td>time_left</td>\n",
              "      <td>1.151192</td>\n",
              "    </tr>\n",
              "    <tr>\n",
              "      <th>1</th>\n",
              "      <td>ct_score</td>\n",
              "      <td>1.016513</td>\n",
              "    </tr>\n",
              "    <tr>\n",
              "      <th>2</th>\n",
              "      <td>t_score</td>\n",
              "      <td>1.016677</td>\n",
              "    </tr>\n",
              "    <tr>\n",
              "      <th>3</th>\n",
              "      <td>map</td>\n",
              "      <td>1.088077</td>\n",
              "    </tr>\n",
              "    <tr>\n",
              "      <th>4</th>\n",
              "      <td>bomb_planted</td>\n",
              "      <td>1.278696</td>\n",
              "    </tr>\n",
              "    <tr>\n",
              "      <th>...</th>\n",
              "      <td>...</td>\n",
              "      <td>...</td>\n",
              "    </tr>\n",
              "    <tr>\n",
              "      <th>91</th>\n",
              "      <td>t_grenade_incendiarygrenade</td>\n",
              "      <td>1.014425</td>\n",
              "    </tr>\n",
              "    <tr>\n",
              "      <th>92</th>\n",
              "      <td>ct_grenade_molotovgrenade</td>\n",
              "      <td>1.011119</td>\n",
              "    </tr>\n",
              "    <tr>\n",
              "      <th>93</th>\n",
              "      <td>t_grenade_molotovgrenade</td>\n",
              "      <td>1.113260</td>\n",
              "    </tr>\n",
              "    <tr>\n",
              "      <th>94</th>\n",
              "      <td>ct_grenade_decoygrenade</td>\n",
              "      <td>1.000134</td>\n",
              "    </tr>\n",
              "    <tr>\n",
              "      <th>95</th>\n",
              "      <td>t_grenade_decoygrenade</td>\n",
              "      <td>1.018374</td>\n",
              "    </tr>\n",
              "  </tbody>\n",
              "</table>\n",
              "<p>96 rows × 2 columns</p>\n",
              "</div>"
            ],
            "text/plain": [
              "                  Feature_names  feature_scores\n",
              "0                     time_left        1.151192\n",
              "1                      ct_score        1.016513\n",
              "2                       t_score        1.016677\n",
              "3                           map        1.088077\n",
              "4                  bomb_planted        1.278696\n",
              "..                          ...             ...\n",
              "91  t_grenade_incendiarygrenade        1.014425\n",
              "92    ct_grenade_molotovgrenade        1.011119\n",
              "93     t_grenade_molotovgrenade        1.113260\n",
              "94      ct_grenade_decoygrenade        1.000134\n",
              "95       t_grenade_decoygrenade        1.018374\n",
              "\n",
              "[96 rows x 2 columns]"
            ]
          },
          "execution_count": 77,
          "metadata": {},
          "output_type": "execute_result"
        }
      ],
      "source": [
        "df_feature_score"
      ]
    },
    {
      "cell_type": "code",
      "execution_count": 78,
      "metadata": {
        "id": "PfmCNMdvWopV"
      },
      "outputs": [],
      "source": [
        "top_20_values = df_feature_score.nlargest(20,\"feature_scores\")\n",
        "# df_feature_score.nlargest(20, \"feature_scores\") is using the nlargest method to retrieve the top 20 rows from\n",
        "#  a DataFrame based on a specific column named \"feature_scores.\""
      ]
    },
    {
      "cell_type": "code",
      "execution_count": null,
      "metadata": {
        "colab": {
          "base_uri": "https://localhost:8080/",
          "height": 676
        },
        "id": "TOdsr5riXG6_",
        "outputId": "2f3d3f24-86d3-459b-8239-a2a66967e4a9"
      },
      "outputs": [
        {
          "data": {
            "text/html": [
              "<div>\n",
              "<style scoped>\n",
              "    .dataframe tbody tr th:only-of-type {\n",
              "        vertical-align: middle;\n",
              "    }\n",
              "\n",
              "    .dataframe tbody tr th {\n",
              "        vertical-align: top;\n",
              "    }\n",
              "\n",
              "    .dataframe thead th {\n",
              "        text-align: right;\n",
              "    }\n",
              "</style>\n",
              "<table border=\"1\" class=\"dataframe\">\n",
              "  <thead>\n",
              "    <tr style=\"text-align: right;\">\n",
              "      <th></th>\n",
              "      <th>Feature_names</th>\n",
              "      <th>feature_scores</th>\n",
              "    </tr>\n",
              "  </thead>\n",
              "  <tbody>\n",
              "    <tr>\n",
              "      <th>8</th>\n",
              "      <td>t_armor</td>\n",
              "      <td>1.901714</td>\n",
              "    </tr>\n",
              "    <tr>\n",
              "      <th>17</th>\n",
              "      <td>t_weapon_ak47</td>\n",
              "      <td>1.868838</td>\n",
              "    </tr>\n",
              "    <tr>\n",
              "      <th>7</th>\n",
              "      <td>ct_armor</td>\n",
              "      <td>1.831334</td>\n",
              "    </tr>\n",
              "    <tr>\n",
              "      <th>65</th>\n",
              "      <td>t_weapon_sg553</td>\n",
              "      <td>1.765034</td>\n",
              "    </tr>\n",
              "    <tr>\n",
              "      <th>40</th>\n",
              "      <td>ct_weapon_m4a4</td>\n",
              "      <td>1.596029</td>\n",
              "    </tr>\n",
              "    <tr>\n",
              "      <th>5</th>\n",
              "      <td>ct_health</td>\n",
              "      <td>1.530782</td>\n",
              "    </tr>\n",
              "    <tr>\n",
              "      <th>15</th>\n",
              "      <td>t_players_alive</td>\n",
              "      <td>1.464153</td>\n",
              "    </tr>\n",
              "    <tr>\n",
              "      <th>6</th>\n",
              "      <td>t_health</td>\n",
              "      <td>1.384316</td>\n",
              "    </tr>\n",
              "    <tr>\n",
              "      <th>20</th>\n",
              "      <td>ct_weapon_awp</td>\n",
              "      <td>1.366133</td>\n",
              "    </tr>\n",
              "    <tr>\n",
              "      <th>4</th>\n",
              "      <td>bomb_planted</td>\n",
              "      <td>1.278696</td>\n",
              "    </tr>\n",
              "    <tr>\n",
              "      <th>21</th>\n",
              "      <td>t_weapon_awp</td>\n",
              "      <td>1.277574</td>\n",
              "    </tr>\n",
              "    <tr>\n",
              "      <th>89</th>\n",
              "      <td>t_grenade_smokegrenade</td>\n",
              "      <td>1.259058</td>\n",
              "    </tr>\n",
              "    <tr>\n",
              "      <th>14</th>\n",
              "      <td>ct_players_alive</td>\n",
              "      <td>1.249938</td>\n",
              "    </tr>\n",
              "    <tr>\n",
              "      <th>9</th>\n",
              "      <td>ct_money</td>\n",
              "      <td>1.238732</td>\n",
              "    </tr>\n",
              "    <tr>\n",
              "      <th>18</th>\n",
              "      <td>ct_weapon_aug</td>\n",
              "      <td>1.236758</td>\n",
              "    </tr>\n",
              "    <tr>\n",
              "      <th>64</th>\n",
              "      <td>ct_weapon_sg553</td>\n",
              "      <td>1.232279</td>\n",
              "    </tr>\n",
              "    <tr>\n",
              "      <th>87</th>\n",
              "      <td>t_grenade_flashbang</td>\n",
              "      <td>1.212296</td>\n",
              "    </tr>\n",
              "    <tr>\n",
              "      <th>16</th>\n",
              "      <td>ct_weapon_ak47</td>\n",
              "      <td>1.212052</td>\n",
              "    </tr>\n",
              "    <tr>\n",
              "      <th>35</th>\n",
              "      <td>t_weapon_glock</td>\n",
              "      <td>1.186851</td>\n",
              "    </tr>\n",
              "    <tr>\n",
              "      <th>10</th>\n",
              "      <td>t_money</td>\n",
              "      <td>1.177374</td>\n",
              "    </tr>\n",
              "  </tbody>\n",
              "</table>\n",
              "</div>"
            ],
            "text/plain": [
              "             Feature_names  feature_scores\n",
              "8                  t_armor        1.901714\n",
              "17           t_weapon_ak47        1.868838\n",
              "7                 ct_armor        1.831334\n",
              "65          t_weapon_sg553        1.765034\n",
              "40          ct_weapon_m4a4        1.596029\n",
              "5                ct_health        1.530782\n",
              "15         t_players_alive        1.464153\n",
              "6                 t_health        1.384316\n",
              "20           ct_weapon_awp        1.366133\n",
              "4             bomb_planted        1.278696\n",
              "21            t_weapon_awp        1.277574\n",
              "89  t_grenade_smokegrenade        1.259058\n",
              "14        ct_players_alive        1.249938\n",
              "9                 ct_money        1.238732\n",
              "18           ct_weapon_aug        1.236758\n",
              "64         ct_weapon_sg553        1.232279\n",
              "87     t_grenade_flashbang        1.212296\n",
              "16          ct_weapon_ak47        1.212052\n",
              "35          t_weapon_glock        1.186851\n",
              "10                 t_money        1.177374"
            ]
          },
          "execution_count": 79,
          "metadata": {},
          "output_type": "execute_result"
        }
      ],
      "source": [
        "top_20_values # Displaying the top 20 feature scores"
      ]
    },
    {
      "cell_type": "code",
      "execution_count": 91,
      "metadata": {
        "colab": {
          "base_uri": "https://localhost:8080/"
        },
        "id": "FbdvEt9hXIHD",
        "outputId": "82517129-d562-4606-d28e-d019d5975631"
      },
      "outputs": [
        {
          "data": {
            "text/plain": [
              "Index([8, 17, 7, 65, 40, 5, 15, 6, 20, 4, 21, 89, 14, 9, 18, 64, 87, 16, 35,\n",
              "       10],\n",
              "      dtype='int64')"
            ]
          },
          "execution_count": 91,
          "metadata": {},
          "output_type": "execute_result"
        }
      ],
      "source": [
        "imp_cols=top_20_values.index\n",
        "imp_cols"
      ]
    },
    {
      "cell_type": "code",
      "execution_count": 90,
      "metadata": {
        "colab": {
          "base_uri": "https://localhost:8080/"
        },
        "id": "mhqMnxYpX9z4",
        "outputId": "89ea433b-3abf-4891-f907-836761c5bfe7"
      },
      "outputs": [
        {
          "data": {
            "text/plain": [
              "array([[-1.73825231, -0.94029438, -0.19849244, ...,  1.2210558 ,\n",
              "         1.06731306,  0.50792636],\n",
              "       [ 1.02521179,  1.2541644 ,  0.48371375, ..., -0.47725904,\n",
              "         1.06731306, -0.68489092],\n",
              "       [-0.60069328, -0.94029438, -1.28061261, ...,  1.2210558 ,\n",
              "        -1.99263947, -0.40302656],\n",
              "       ...,\n",
              "       [ 0.80689238,  1.2541644 ,  1.07182254, ..., -0.47725904,\n",
              "         1.06731306,  0.94093538],\n",
              "       [ 1.08266427,  0.52267814,  1.07182254, ..., -0.47725904,\n",
              "         1.06731306, -0.47655639],\n",
              "       [-0.08936625, -0.94029438, -1.86872139, ..., -0.47725904,\n",
              "        -0.15666795,  0.56103124]])"
            ]
          },
          "execution_count": 90,
          "metadata": {},
          "output_type": "execute_result"
        }
      ],
      "source": [
        "x_train"
      ]
    },
    {
      "cell_type": "code",
      "execution_count": null,
      "metadata": {
        "id": "0v-1WyaTXf3P"
      },
      "outputs": [],
      "source": [
        "x_train=x_train[:,imp_cols] # selcting only the important columns from the training data"
      ]
    },
    {
      "cell_type": "code",
      "execution_count": null,
      "metadata": {
        "id": "19QI3pqlZZGR"
      },
      "outputs": [],
      "source": [
        "x_test=x_test[:,imp_cols]"
      ]
    },
    {
      "cell_type": "code",
      "execution_count": 93,
      "metadata": {
        "colab": {
          "base_uri": "https://localhost:8080/"
        },
        "id": "tn0gyT2BYE--",
        "outputId": "d05046a9-3b06-4244-ebc0-e4a264565465"
      },
      "outputs": [
        {
          "data": {
            "text/plain": [
              "array([[-1.73825231, -0.94029438, -0.19849244, ...,  1.2210558 ,\n",
              "         1.06731306,  0.50792636],\n",
              "       [ 1.02521179,  1.2541644 ,  0.48371375, ..., -0.47725904,\n",
              "         1.06731306, -0.68489092],\n",
              "       [-0.60069328, -0.94029438, -1.28061261, ...,  1.2210558 ,\n",
              "        -1.99263947, -0.40302656],\n",
              "       ...,\n",
              "       [ 0.80689238,  1.2541644 ,  1.07182254, ..., -0.47725904,\n",
              "         1.06731306,  0.94093538],\n",
              "       [ 1.08266427,  0.52267814,  1.07182254, ..., -0.47725904,\n",
              "         1.06731306, -0.47655639],\n",
              "       [-0.08936625, -0.94029438, -1.86872139, ..., -0.47725904,\n",
              "        -0.15666795,  0.56103124]])"
            ]
          },
          "execution_count": 93,
          "metadata": {},
          "output_type": "execute_result"
        }
      ],
      "source": [
        "x_train"
      ]
    },
    {
      "cell_type": "code",
      "execution_count": 94,
      "metadata": {
        "colab": {
          "base_uri": "https://localhost:8080/",
          "height": 443
        },
        "id": "i0E4Q987YF-l",
        "outputId": "25151660-8a0e-4a03-a0ac-2b26eade7290"
      },
      "outputs": [
        {
          "data": {
            "text/html": [
              "<div>\n",
              "<style scoped>\n",
              "    .dataframe tbody tr th:only-of-type {\n",
              "        vertical-align: middle;\n",
              "    }\n",
              "\n",
              "    .dataframe tbody tr th {\n",
              "        vertical-align: top;\n",
              "    }\n",
              "\n",
              "    .dataframe thead th {\n",
              "        text-align: right;\n",
              "    }\n",
              "</style>\n",
              "<table border=\"1\" class=\"dataframe\">\n",
              "  <thead>\n",
              "    <tr style=\"text-align: right;\">\n",
              "      <th></th>\n",
              "      <th>0</th>\n",
              "      <th>1</th>\n",
              "      <th>2</th>\n",
              "      <th>3</th>\n",
              "      <th>4</th>\n",
              "      <th>5</th>\n",
              "      <th>6</th>\n",
              "      <th>7</th>\n",
              "      <th>8</th>\n",
              "      <th>9</th>\n",
              "      <th>10</th>\n",
              "      <th>11</th>\n",
              "      <th>12</th>\n",
              "      <th>13</th>\n",
              "      <th>14</th>\n",
              "      <th>15</th>\n",
              "      <th>16</th>\n",
              "      <th>17</th>\n",
              "      <th>18</th>\n",
              "      <th>19</th>\n",
              "    </tr>\n",
              "  </thead>\n",
              "  <tbody>\n",
              "    <tr>\n",
              "      <th>0</th>\n",
              "      <td>-1.738252</td>\n",
              "      <td>-0.940294</td>\n",
              "      <td>-0.198492</td>\n",
              "      <td>-0.743743</td>\n",
              "      <td>-0.907498</td>\n",
              "      <td>0.684387</td>\n",
              "      <td>0.614814</td>\n",
              "      <td>0.717496</td>\n",
              "      <td>2.084163</td>\n",
              "      <td>-0.364083</td>\n",
              "      <td>-0.689961</td>\n",
              "      <td>-0.909722</td>\n",
              "      <td>0.619567</td>\n",
              "      <td>3.166033</td>\n",
              "      <td>-0.296341</td>\n",
              "      <td>-0.440699</td>\n",
              "      <td>-1.049887</td>\n",
              "      <td>1.221056</td>\n",
              "      <td>1.067313</td>\n",
              "      <td>0.507926</td>\n",
              "    </tr>\n",
              "    <tr>\n",
              "      <th>1</th>\n",
              "      <td>1.025212</td>\n",
              "      <td>1.254164</td>\n",
              "      <td>0.483714</td>\n",
              "      <td>-0.743743</td>\n",
              "      <td>-0.907498</td>\n",
              "      <td>0.684387</td>\n",
              "      <td>0.614814</td>\n",
              "      <td>0.717496</td>\n",
              "      <td>-0.875420</td>\n",
              "      <td>-0.364083</td>\n",
              "      <td>-0.689961</td>\n",
              "      <td>1.814845</td>\n",
              "      <td>0.619567</td>\n",
              "      <td>-0.856265</td>\n",
              "      <td>-0.296341</td>\n",
              "      <td>-0.440699</td>\n",
              "      <td>1.168070</td>\n",
              "      <td>-0.477259</td>\n",
              "      <td>1.067313</td>\n",
              "      <td>-0.684891</td>\n",
              "    </tr>\n",
              "    <tr>\n",
              "      <th>2</th>\n",
              "      <td>-0.600693</td>\n",
              "      <td>-0.940294</td>\n",
              "      <td>-1.280613</td>\n",
              "      <td>-0.743743</td>\n",
              "      <td>-0.907498</td>\n",
              "      <td>-2.303445</td>\n",
              "      <td>-0.989928</td>\n",
              "      <td>-0.865139</td>\n",
              "      <td>-0.875420</td>\n",
              "      <td>2.746628</td>\n",
              "      <td>-0.689961</td>\n",
              "      <td>-0.364809</td>\n",
              "      <td>-2.656273</td>\n",
              "      <td>-0.865095</td>\n",
              "      <td>-0.296341</td>\n",
              "      <td>-0.440699</td>\n",
              "      <td>-1.049887</td>\n",
              "      <td>1.221056</td>\n",
              "      <td>-1.992639</td>\n",
              "      <td>-0.403027</td>\n",
              "    </tr>\n",
              "    <tr>\n",
              "      <th>3</th>\n",
              "      <td>1.059683</td>\n",
              "      <td>1.254164</td>\n",
              "      <td>1.071823</td>\n",
              "      <td>0.128663</td>\n",
              "      <td>3.174906</td>\n",
              "      <td>0.684387</td>\n",
              "      <td>0.614814</td>\n",
              "      <td>0.717496</td>\n",
              "      <td>-0.875420</td>\n",
              "      <td>-0.364083</td>\n",
              "      <td>1.389839</td>\n",
              "      <td>0.725018</td>\n",
              "      <td>0.619567</td>\n",
              "      <td>-0.622256</td>\n",
              "      <td>-0.296341</td>\n",
              "      <td>-0.440699</td>\n",
              "      <td>1.722559</td>\n",
              "      <td>-0.477259</td>\n",
              "      <td>-0.156668</td>\n",
              "      <td>1.132930</td>\n",
              "    </tr>\n",
              "    <tr>\n",
              "      <th>4</th>\n",
              "      <td>-1.738252</td>\n",
              "      <td>-0.940294</td>\n",
              "      <td>-0.692504</td>\n",
              "      <td>-0.743743</td>\n",
              "      <td>-0.907498</td>\n",
              "      <td>0.684387</td>\n",
              "      <td>0.614814</td>\n",
              "      <td>0.717496</td>\n",
              "      <td>2.084163</td>\n",
              "      <td>-0.364083</td>\n",
              "      <td>-0.689961</td>\n",
              "      <td>-0.909722</td>\n",
              "      <td>0.619567</td>\n",
              "      <td>4.945380</td>\n",
              "      <td>-0.296341</td>\n",
              "      <td>-0.440699</td>\n",
              "      <td>-1.049887</td>\n",
              "      <td>-0.477259</td>\n",
              "      <td>1.067313</td>\n",
              "      <td>4.151738</td>\n",
              "    </tr>\n",
              "    <tr>\n",
              "      <th>...</th>\n",
              "      <td>...</td>\n",
              "      <td>...</td>\n",
              "      <td>...</td>\n",
              "      <td>...</td>\n",
              "      <td>...</td>\n",
              "      <td>...</td>\n",
              "      <td>...</td>\n",
              "      <td>...</td>\n",
              "      <td>...</td>\n",
              "      <td>...</td>\n",
              "      <td>...</td>\n",
              "      <td>...</td>\n",
              "      <td>...</td>\n",
              "      <td>...</td>\n",
              "      <td>...</td>\n",
              "      <td>...</td>\n",
              "      <td>...</td>\n",
              "      <td>...</td>\n",
              "      <td>...</td>\n",
              "      <td>...</td>\n",
              "    </tr>\n",
              "    <tr>\n",
              "      <th>93953</th>\n",
              "      <td>0.898816</td>\n",
              "      <td>-0.208808</td>\n",
              "      <td>1.071823</td>\n",
              "      <td>1.873476</td>\n",
              "      <td>0.725463</td>\n",
              "      <td>0.684387</td>\n",
              "      <td>0.614814</td>\n",
              "      <td>0.717496</td>\n",
              "      <td>2.084163</td>\n",
              "      <td>-0.364083</td>\n",
              "      <td>1.389839</td>\n",
              "      <td>1.814845</td>\n",
              "      <td>0.619567</td>\n",
              "      <td>-0.776790</td>\n",
              "      <td>1.841857</td>\n",
              "      <td>-0.440699</td>\n",
              "      <td>1.722559</td>\n",
              "      <td>-0.477259</td>\n",
              "      <td>0.455323</td>\n",
              "      <td>0.438482</td>\n",
              "    </tr>\n",
              "    <tr>\n",
              "      <th>93954</th>\n",
              "      <td>0.801147</td>\n",
              "      <td>0.522678</td>\n",
              "      <td>-0.716028</td>\n",
              "      <td>1.001070</td>\n",
              "      <td>-0.907498</td>\n",
              "      <td>0.684387</td>\n",
              "      <td>0.614814</td>\n",
              "      <td>0.717496</td>\n",
              "      <td>-0.875420</td>\n",
              "      <td>-0.364083</td>\n",
              "      <td>-0.689961</td>\n",
              "      <td>1.814845</td>\n",
              "      <td>0.619567</td>\n",
              "      <td>0.044447</td>\n",
              "      <td>-0.296341</td>\n",
              "      <td>-0.440699</td>\n",
              "      <td>1.722559</td>\n",
              "      <td>-0.477259</td>\n",
              "      <td>-0.156668</td>\n",
              "      <td>0.128022</td>\n",
              "    </tr>\n",
              "    <tr>\n",
              "      <th>93955</th>\n",
              "      <td>0.806892</td>\n",
              "      <td>1.254164</td>\n",
              "      <td>1.071823</td>\n",
              "      <td>1.001070</td>\n",
              "      <td>2.358425</td>\n",
              "      <td>0.684387</td>\n",
              "      <td>0.614814</td>\n",
              "      <td>0.717496</td>\n",
              "      <td>0.604371</td>\n",
              "      <td>-0.364083</td>\n",
              "      <td>-0.689961</td>\n",
              "      <td>1.814845</td>\n",
              "      <td>0.619567</td>\n",
              "      <td>-0.851849</td>\n",
              "      <td>-0.296341</td>\n",
              "      <td>-0.440699</td>\n",
              "      <td>1.722559</td>\n",
              "      <td>-0.477259</td>\n",
              "      <td>1.067313</td>\n",
              "      <td>0.940935</td>\n",
              "    </tr>\n",
              "    <tr>\n",
              "      <th>93956</th>\n",
              "      <td>1.082664</td>\n",
              "      <td>0.522678</td>\n",
              "      <td>1.071823</td>\n",
              "      <td>0.128663</td>\n",
              "      <td>-0.907498</td>\n",
              "      <td>0.684387</td>\n",
              "      <td>0.614814</td>\n",
              "      <td>0.717496</td>\n",
              "      <td>-0.875420</td>\n",
              "      <td>-0.364083</td>\n",
              "      <td>-0.689961</td>\n",
              "      <td>1.269932</td>\n",
              "      <td>0.619567</td>\n",
              "      <td>-0.798866</td>\n",
              "      <td>-0.296341</td>\n",
              "      <td>1.340562</td>\n",
              "      <td>1.722559</td>\n",
              "      <td>-0.477259</td>\n",
              "      <td>1.067313</td>\n",
              "      <td>-0.476556</td>\n",
              "    </tr>\n",
              "    <tr>\n",
              "      <th>93957</th>\n",
              "      <td>-0.089366</td>\n",
              "      <td>-0.940294</td>\n",
              "      <td>-1.868721</td>\n",
              "      <td>-0.743743</td>\n",
              "      <td>-0.907498</td>\n",
              "      <td>0.684387</td>\n",
              "      <td>0.614814</td>\n",
              "      <td>0.717496</td>\n",
              "      <td>-0.875420</td>\n",
              "      <td>-0.364083</td>\n",
              "      <td>-0.689961</td>\n",
              "      <td>-0.909722</td>\n",
              "      <td>0.619567</td>\n",
              "      <td>0.062108</td>\n",
              "      <td>-0.296341</td>\n",
              "      <td>-0.440699</td>\n",
              "      <td>-1.049887</td>\n",
              "      <td>-0.477259</td>\n",
              "      <td>-0.156668</td>\n",
              "      <td>0.561031</td>\n",
              "    </tr>\n",
              "  </tbody>\n",
              "</table>\n",
              "<p>93958 rows × 20 columns</p>\n",
              "</div>"
            ],
            "text/plain": [
              "             0         1         2         3         4         5         6   \\\n",
              "0     -1.738252 -0.940294 -0.198492 -0.743743 -0.907498  0.684387  0.614814   \n",
              "1      1.025212  1.254164  0.483714 -0.743743 -0.907498  0.684387  0.614814   \n",
              "2     -0.600693 -0.940294 -1.280613 -0.743743 -0.907498 -2.303445 -0.989928   \n",
              "3      1.059683  1.254164  1.071823  0.128663  3.174906  0.684387  0.614814   \n",
              "4     -1.738252 -0.940294 -0.692504 -0.743743 -0.907498  0.684387  0.614814   \n",
              "...         ...       ...       ...       ...       ...       ...       ...   \n",
              "93953  0.898816 -0.208808  1.071823  1.873476  0.725463  0.684387  0.614814   \n",
              "93954  0.801147  0.522678 -0.716028  1.001070 -0.907498  0.684387  0.614814   \n",
              "93955  0.806892  1.254164  1.071823  1.001070  2.358425  0.684387  0.614814   \n",
              "93956  1.082664  0.522678  1.071823  0.128663 -0.907498  0.684387  0.614814   \n",
              "93957 -0.089366 -0.940294 -1.868721 -0.743743 -0.907498  0.684387  0.614814   \n",
              "\n",
              "             7         8         9         10        11        12        13  \\\n",
              "0      0.717496  2.084163 -0.364083 -0.689961 -0.909722  0.619567  3.166033   \n",
              "1      0.717496 -0.875420 -0.364083 -0.689961  1.814845  0.619567 -0.856265   \n",
              "2     -0.865139 -0.875420  2.746628 -0.689961 -0.364809 -2.656273 -0.865095   \n",
              "3      0.717496 -0.875420 -0.364083  1.389839  0.725018  0.619567 -0.622256   \n",
              "4      0.717496  2.084163 -0.364083 -0.689961 -0.909722  0.619567  4.945380   \n",
              "...         ...       ...       ...       ...       ...       ...       ...   \n",
              "93953  0.717496  2.084163 -0.364083  1.389839  1.814845  0.619567 -0.776790   \n",
              "93954  0.717496 -0.875420 -0.364083 -0.689961  1.814845  0.619567  0.044447   \n",
              "93955  0.717496  0.604371 -0.364083 -0.689961  1.814845  0.619567 -0.851849   \n",
              "93956  0.717496 -0.875420 -0.364083 -0.689961  1.269932  0.619567 -0.798866   \n",
              "93957  0.717496 -0.875420 -0.364083 -0.689961 -0.909722  0.619567  0.062108   \n",
              "\n",
              "             14        15        16        17        18        19  \n",
              "0     -0.296341 -0.440699 -1.049887  1.221056  1.067313  0.507926  \n",
              "1     -0.296341 -0.440699  1.168070 -0.477259  1.067313 -0.684891  \n",
              "2     -0.296341 -0.440699 -1.049887  1.221056 -1.992639 -0.403027  \n",
              "3     -0.296341 -0.440699  1.722559 -0.477259 -0.156668  1.132930  \n",
              "4     -0.296341 -0.440699 -1.049887 -0.477259  1.067313  4.151738  \n",
              "...         ...       ...       ...       ...       ...       ...  \n",
              "93953  1.841857 -0.440699  1.722559 -0.477259  0.455323  0.438482  \n",
              "93954 -0.296341 -0.440699  1.722559 -0.477259 -0.156668  0.128022  \n",
              "93955 -0.296341 -0.440699  1.722559 -0.477259  1.067313  0.940935  \n",
              "93956 -0.296341  1.340562  1.722559 -0.477259  1.067313 -0.476556  \n",
              "93957 -0.296341 -0.440699 -1.049887 -0.477259 -0.156668  0.561031  \n",
              "\n",
              "[93958 rows x 20 columns]"
            ]
          },
          "execution_count": 94,
          "metadata": {},
          "output_type": "execute_result"
        }
      ],
      "source": [
        "pd.DataFrame(x_train)"
      ]
    },
    {
      "cell_type": "code",
      "execution_count": 95,
      "metadata": {
        "id": "j8jJjq87YM93"
      },
      "outputs": [],
      "source": [
        "# Model Building\n",
        "\n",
        "from sklearn.tree import DecisionTreeClassifier\n",
        "from sklearn.ensemble import RandomForestClassifier\n",
        "from sklearn.metrics import * \n"
      ]
    },
    {
      "cell_type": "code",
      "execution_count": 98,
      "metadata": {
        "id": "ptqiR9fqat23"
      },
      "outputs": [],
      "source": [
        "# Decision Tree implementation\n",
        "dt_model=DecisionTreeClassifier()\n",
        "\n",
        "dt_model.fit(x_train,y_train) # Fitting the Decision Tree model on the training data\n",
        "dt_pred=dt_model.predict(x_test)  # Making predictions on the test data"
      ]
    },
    {
      "cell_type": "code",
      "execution_count": 102,
      "metadata": {
        "colab": {
          "base_uri": "https://localhost:8080/"
        },
        "id": "3Be0QHflbJjS",
        "outputId": "9d9aabc8-e11a-428e-e59e-4c4005c1f871"
      },
      "outputs": [
        {
          "name": "stdout",
          "output_type": "stream",
          "text": [
            "Accuracy of Decision Tree model: 81.13%\n",
            "Confusion Matrix:\n",
            " [[9253 2247]\n",
            " [2186 9804]]\n"
          ]
        }
      ],
      "source": [
        "accuracy_score(y_test,dt_pred)\n",
        "# Printing the accuracy of the Decision Tree model\n",
        "print(\"Accuracy of Decision Tree model: {:.2f}%\".format(accuracy_score(y_test, dt_pred) * 100))  # Printing the accuracy of the Decision Tree model\n",
        "\n",
        "confusion_matrix(y_test,dt_pred)\n",
        "# Printing the confusion matrix for Decision Tree model\n",
        "print(\"Confusion Matrix:\\n\", confusion_matrix(y_test, dt_pred))  # Printing the confusion matrix for Decision Tree model"
      ]
    },
    {
      "cell_type": "code",
      "execution_count": 103,
      "metadata": {
        "colab": {
          "base_uri": "https://localhost:8080/"
        },
        "id": "mZwB5a81bZ7Q",
        "outputId": "a25f8c91-9848-4712-e075-33e42be8b49f"
      },
      "outputs": [
        {
          "data": {
            "text/plain": [
              "19057"
            ]
          },
          "execution_count": 103,
          "metadata": {},
          "output_type": "execute_result"
        }
      ],
      "source": [
        "9253 + 9804"
      ]
    },
    {
      "cell_type": "code",
      "execution_count": 104,
      "metadata": {
        "id": "lz21qCdJbdEW"
      },
      "outputs": [
        {
          "name": "stdout",
          "output_type": "stream",
          "text": [
            "Accuracy of Random Forest model: 85.33%\n",
            "Confusion Matrix:\n",
            " [[ 9858  1642]\n",
            " [ 1805 10185]]\n"
          ]
        }
      ],
      "source": [
        "# RandomForestClassifier implementation\n",
        "rf_model=RandomForestClassifier()\n",
        "\n",
        "rf_model.fit(x_train,y_train)\n",
        "\n",
        "rf_pred=rf_model.predict(x_test)  # Making predictions on the test data\n",
        "\n",
        "# Printing the accuracy of the Random Forest model\n",
        "print(\"Accuracy of Random Forest model: {:.2f}%\".format(accuracy_score(y_test, rf_pred) * 100))  # Printing the accuracy of the Random Forest model\n",
        "# Printing the confusion matrix for Random Forest model\n",
        "print(\"Confusion Matrix:\\n\", confusion_matrix(y_test, rf_pred))  # Printing the confusion matrix for Random Forest model\n"
      ]
    },
    {
      "cell_type": "code",
      "execution_count": null,
      "metadata": {
        "colab": {
          "base_uri": "https://localhost:8080/"
        },
        "id": "Ph1GVYIscLs1",
        "outputId": "25d3f460-f74d-4434-a7fd-24e4a2b946b8"
      },
      "outputs": [
        {
          "data": {
            "text/plain": [
              "20055"
            ]
          },
          "execution_count": 152,
          "metadata": {},
          "output_type": "execute_result"
        }
      ],
      "source": [
        "9856 +10199"
      ]
    },
    {
      "cell_type": "markdown",
      "metadata": {},
      "source": [
        "## Summarry \n",
        "* After applyed many models we got best accuracy in Random Forest Classifier of 85.33% \n",
        "* Logestic regression classifier  74.24%\n",
        "* LDA 75.37%\n",
        "* Dision tree classifire 81.13%\n",
        "\n",
        "### best model for this project : Random Forest Classifier"
      ]
    }
  ],
  "metadata": {
    "colab": {
      "provenance": []
    },
    "kernelspec": {
      "display_name": "base",
      "language": "python",
      "name": "python3"
    },
    "language_info": {
      "codemirror_mode": {
        "name": "ipython",
        "version": 3
      },
      "file_extension": ".py",
      "mimetype": "text/x-python",
      "name": "python",
      "nbconvert_exporter": "python",
      "pygments_lexer": "ipython3",
      "version": "3.12.4"
    }
  },
  "nbformat": 4,
  "nbformat_minor": 0
}
